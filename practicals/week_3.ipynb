{
 "cells": [
  {
   "cell_type": "markdown",
   "metadata": {},
   "source": [
    "# Preliminaries\n",
    "\n",
    "The `pandas` library allows the user several data structures for different data manipulation tasks:\n",
    "1. Data storage through its `Series` and `DataFrame` data structures.\n",
    "2. Data filtering using multiple methods from the package.\n",
    "3. Reading data from many different file formats such as `csv`, `txt`, `xlsx`, ...\n",
    "\n",
    "Below we provide a brief overview of the `pandas` functionalities needed for these exercises. The complete documentation can be found on the [`pandas` website](https://pandas.pydata.org/).\n",
    "\n",
    "## Pandas data structures\n",
    "\n",
    "### Series\n",
    "The Pandas Series data structure is similar to a one-dimensional array. It can store any type of data. The values are mutable but the size not.\n",
    "\n",
    "To create `Series`, we call the `pd.Series()` method and pass an array. A `Series` may also be created from a numpy array."
   ]
  },
  {
   "cell_type": "code",
   "execution_count": 2,
   "metadata": {},
   "outputs": [
    {
     "name": "stdout",
     "output_type": "stream",
     "text": [
      "0       1\n",
      "1      10\n",
      "2     100\n",
      "3    1000\n",
      "dtype: int64\n",
      "\n",
      "\n",
      "0          PSV\n",
      "1         Ajax\n",
      "2    Feyenoord\n",
      "3       Twente\n",
      "dtype: object\n"
     ]
    }
   ],
   "source": [
    "import pandas as pd\n",
    "import numpy as np\n",
    "\n",
    "first_series = pd.Series([1,10,100,1000])\n",
    "\n",
    "print(first_series)\n",
    "\n",
    "teams = np.array(['PSV','Ajax','Feyenoord','Twente'])\n",
    "second_series = pd.Series(teams)\n",
    "\n",
    "print('\\n')\n",
    "print(second_series)"
   ]
  },
  {
   "cell_type": "markdown",
   "metadata": {},
   "source": [
    "### DataFrame\n",
    "One can think of a `DataFrame` as a table with rows and columns (2D structure). The columns can be of a different type (as opposed to `numpy` arrays) and the size of the `DataFrame` is mutable.\n",
    "\n",
    "To create `DataFrame`, we call the `pd.DataFrame()` method and we can create it from scratch or we can convert a numpy array or a list into a `DataFrame`."
   ]
  },
  {
   "cell_type": "code",
   "execution_count": 2,
   "metadata": {},
   "outputs": [
    {
     "name": "stdout",
     "output_type": "stream",
     "text": [
      "From scratch: \n",
      "    Position       Team  GF  GA  Points\n",
      "0         1        PSV  80  30      79\n",
      "1         2       Ajax  75  25      78\n",
      "2         3  Feyenoord  75  40      70\n",
      "3         4     Twente  70  60      66 \n",
      "\n",
      "From list: \n",
      "   Position       Team  GF  GA Points\n",
      "0        1        PSV  80  30     79\n",
      "1        2       Ajax  75  25     78\n",
      "2        3  Feyenoord  75  40     70\n",
      "3        4     Twente  70  60     66 \n",
      "\n",
      "From numpy array: \n",
      "   Position       Team  GF  GA Points\n",
      "0        1        PSV  80  30     79\n",
      "1        2       Ajax  75  25     78\n",
      "2        3  Feyenoord  75  40     70\n",
      "3        4     Twente  70  60     66 \n",
      "\n"
     ]
    }
   ],
   "source": [
    "# DataFrame from scratch\n",
    "first_dataframe = pd.DataFrame({\n",
    "    \"Position\": [1, 2, 3, 4],\n",
    "    \"Team\": ['PSV','Ajax','Feyenoord','Twente'],\n",
    "    \"GF\": [80, 75, 75, 70],\n",
    "    \"GA\": [30, 25, 40, 60],\n",
    "    \"Points\": [79, 78, 70, 66]\n",
    "})\n",
    "\n",
    "print(\"From scratch: \\n {} \\n\".format(first_dataframe))\n",
    "\n",
    "# DataFrme from a list\n",
    "data = [[1, 2, 3, 4], ['PSV','Ajax','Feyenoord','Twente'], \n",
    "        [80, 75, 75, 70], [30, 25, 40, 60], [79, 78, 70, 66]]\n",
    "columns = [\"Position\", \"Team\", \"GF\", \"GA\", \"Points\"]\n",
    "\n",
    "second_dataframe = pd.DataFrame(data, index=columns)\n",
    "\n",
    "print(\"From list: \\n {} \\n\".format(second_dataframe.T)) # the '.T' operator is explained later on\n",
    "\n",
    "# DataFrame from numpy array\n",
    "data = np.array([[1, 2, 3, 4], ['PSV','Ajax','Feyenoord','Twente'], \n",
    "                 [80, 75, 75, 70], [30, 25, 40, 60], [79, 78, 70, 66]])\n",
    "columns = [\"Position\", \"Team\", \"GF\", \"GA\", \"Points\"]\n",
    "\n",
    "third_dataframe = pd.DataFrame(data.T, columns=columns)\n",
    "\n",
    "print(\"From numpy array: \\n {} \\n\".format(third_dataframe))"
   ]
  },
  {
   "cell_type": "markdown",
   "metadata": {},
   "source": [
    "### DataFrame attributes\n",
    "This section gives a quick overview of some of the `pandas.DataFrame` attributes such as `T`, `index`, `columns`, `iloc`, `loc`, `shape` and `values`."
   ]
  },
  {
   "cell_type": "code",
   "execution_count": 3,
   "metadata": {},
   "outputs": [
    {
     "name": "stdout",
     "output_type": "stream",
     "text": [
      "            0     1          2       3\n",
      "Position    1     2          3       4\n",
      "Team      PSV  Ajax  Feyenoord  Twente\n",
      "GF         80    75         75      70\n",
      "GA         30    25         40      60\n",
      "Points     79    78         70      66\n"
     ]
    }
   ],
   "source": [
    "# transpose the index and columns\n",
    "print(third_dataframe.T)"
   ]
  },
  {
   "cell_type": "code",
   "execution_count": 4,
   "metadata": {},
   "outputs": [
    {
     "name": "stdout",
     "output_type": "stream",
     "text": [
      "RangeIndex(start=0, stop=4, step=1)\n"
     ]
    }
   ],
   "source": [
    "# index makes reference to the row labels\n",
    "print(third_dataframe.index)"
   ]
  },
  {
   "cell_type": "code",
   "execution_count": 5,
   "metadata": {},
   "outputs": [
    {
     "name": "stdout",
     "output_type": "stream",
     "text": [
      "Index(['Position', 'Team', 'GF', 'GA', 'Points'], dtype='object')\n"
     ]
    }
   ],
   "source": [
    "# columns makes reference to the column labels\n",
    "print(third_dataframe.columns)"
   ]
  },
  {
   "cell_type": "code",
   "execution_count": 6,
   "metadata": {},
   "outputs": [
    {
     "name": "stdout",
     "output_type": "stream",
     "text": [
      "0          PSV\n",
      "1         Ajax\n",
      "2    Feyenoord\n",
      "3       Twente\n",
      "Name: Team, dtype: object\n"
     ]
    }
   ],
   "source": [
    "# iloc allows to access the index by integer-location (e.g. all team names, which are in the second columm)\n",
    "print(third_dataframe.iloc[:,1])"
   ]
  },
  {
   "cell_type": "code",
   "execution_count": 7,
   "metadata": {},
   "outputs": [
    {
     "name": "stdout",
     "output_type": "stream",
     "text": [
      "PSV\n"
     ]
    }
   ],
   "source": [
    "# loc allows to access the index by label(s)-location (e.g. all team names, which are in the \"Team\" columm)\n",
    "print(third_dataframe.loc[0, 'Team'])"
   ]
  },
  {
   "cell_type": "code",
   "execution_count": 8,
   "metadata": {},
   "outputs": [
    {
     "name": "stdout",
     "output_type": "stream",
     "text": [
      "(4, 5)\n"
     ]
    }
   ],
   "source": [
    "# shape returns a tuple with the DataFrame dimension, similar to numpy\n",
    "print(third_dataframe.shape)"
   ]
  },
  {
   "cell_type": "code",
   "execution_count": 9,
   "metadata": {},
   "outputs": [
    {
     "name": "stdout",
     "output_type": "stream",
     "text": [
      "[['1' 'PSV' '80' '30' '79']\n",
      " ['2' 'Ajax' '75' '25' '78']\n",
      " ['3' 'Feyenoord' '75' '40' '70']\n",
      " ['4' 'Twente' '70' '60' '66']]\n"
     ]
    }
   ],
   "source": [
    "# values return a Numpy representation of the DataFrame data\n",
    "print(third_dataframe.values)"
   ]
  },
  {
   "cell_type": "markdown",
   "metadata": {},
   "source": [
    "### DataFrame methods\n",
    "This section gives a quick overview of some of the `pandas.DataFrame` methods such as `head`, `describe`, `concat`, `groupby`,`rename`, `filter`, `drop` and `isna`. To import data from CSV or MS Excel files, we can make use of `read_csv` and `read_excel`, respectively."
   ]
  },
  {
   "cell_type": "code",
   "execution_count": 10,
   "metadata": {},
   "outputs": [
    {
     "name": "stdout",
     "output_type": "stream",
     "text": [
      "  Position       Team  GF  GA Points\n",
      "0        1        PSV  80  30     79\n",
      "1        2       Ajax  75  25     78\n",
      "2        3  Feyenoord  75  40     70\n",
      "3        4     Twente  70  60     66\n"
     ]
    }
   ],
   "source": [
    "# print the first few rows in your dataset with head()\n",
    "print(third_dataframe.head()) # In this case, it is not very useful because we don't have thousands of rows"
   ]
  },
  {
   "cell_type": "code",
   "execution_count": 11,
   "metadata": {},
   "outputs": [
    {
     "name": "stdout",
     "output_type": "stream",
     "text": [
      "       Position    Team  GF  GA Points\n",
      "count         4       4   4   4      4\n",
      "unique        4       4   3   4      4\n",
      "top           4  Twente  75  30     78\n",
      "freq          1       1   2   1      1\n"
     ]
    }
   ],
   "source": [
    "# get the summary statistics of the DataFrame with describe()\n",
    "print(third_dataframe.describe())"
   ]
  },
  {
   "cell_type": "code",
   "execution_count": 12,
   "metadata": {},
   "outputs": [
    {
     "name": "stdout",
     "output_type": "stream",
     "text": [
      "  Position  Team  GF  GA Points\n",
      "0        1   PSV  80  30     79\n",
      "1        2  Ajax  75  25     78\n",
      "\n",
      "\n",
      "  Position       Team  GF  GA Points\n",
      "2        3  Feyenoord  75  40     70\n",
      "3        4     Twente  70  60     66\n",
      "\n",
      "\n",
      "  Position       Team  GF  GA Points\n",
      "0        1        PSV  80  30     79\n",
      "1        2       Ajax  75  25     78\n",
      "2        3  Feyenoord  75  40     70\n",
      "3        4     Twente  70  60     66\n"
     ]
    }
   ],
   "source": [
    "# concatenate (join) DataFrame objects using concat()\n",
    "\n",
    "# first, we will split the above DataFrame in two different ones\n",
    "df_a = third_dataframe.loc[[0,1],:]\n",
    "df_b = third_dataframe.loc[[2,3],:]\n",
    "\n",
    "print(df_a)\n",
    "print('\\n')\n",
    "\n",
    "print(df_b)\n",
    "print('\\n')\n",
    "\n",
    "# now, we concatenate both datasets\n",
    "df = pd.concat([df_a, df_b])\n",
    "\n",
    "print(df)"
   ]
  },
  {
   "cell_type": "code",
   "execution_count": 13,
   "metadata": {},
   "outputs": [
    {
     "name": "stdout",
     "output_type": "stream",
     "text": [
      "  Position       Team  GF  GA Points\n",
      "1        2       Ajax  75  25     78\n",
      "2        3  Feyenoord  75  40     70\n"
     ]
    }
   ],
   "source": [
    "# group the data by certain variable via groupby()\n",
    "# here, we have grouped the data by goals for, which in this case is 75\n",
    "\n",
    "group = df.groupby('GF')\n",
    "\n",
    "print(group.get_group('75'))"
   ]
  },
  {
   "cell_type": "code",
   "execution_count": 14,
   "metadata": {},
   "outputs": [
    {
     "name": "stdout",
     "output_type": "stream",
     "text": [
      "  Pos       Club  GF  GA Points\n",
      "0   1        PSV  80  30     79\n",
      "1   2       Ajax  75  25     78\n",
      "2   3  Feyenoord  75  40     70\n",
      "3   4     Twente  70  60     66\n"
     ]
    }
   ],
   "source": [
    "# rename() helps you change the column or index names\n",
    "print(df.rename(columns={'Position':'Pos','Team':'Club'}))"
   ]
  },
  {
   "cell_type": "code",
   "execution_count": 15,
   "metadata": {},
   "outputs": [
    {
     "name": "stdout",
     "output_type": "stream",
     "text": [
      "        Team Points\n",
      "0        PSV     79\n",
      "1       Ajax     78\n",
      "2  Feyenoord     70\n",
      "3     Twente     66\n"
     ]
    }
   ],
   "source": [
    "# build a subset of rows or columns of your dataset according to labels via filter()\n",
    "# here, items refer to the variable names: 'Team' and 'Points'; to select columns, we specify axis=1\n",
    "print(df.filter(items=['Team', 'Points'], axis=1))"
   ]
  },
  {
   "cell_type": "code",
   "execution_count": 16,
   "metadata": {},
   "outputs": [
    {
     "name": "stdout",
     "output_type": "stream",
     "text": [
      "  Position       Team Points\n",
      "0        1        PSV     79\n",
      "1        2       Ajax     78\n",
      "2        3  Feyenoord     70\n",
      "3        4     Twente     66\n"
     ]
    }
   ],
   "source": [
    "# dropping some labels\n",
    "print(df.drop(columns=['GF', 'GA']))"
   ]
  },
  {
   "cell_type": "code",
   "execution_count": 17,
   "metadata": {},
   "outputs": [
    {
     "name": "stdout",
     "output_type": "stream",
     "text": [
      "   Position   Team     GF     GA  Points\n",
      "0     False  False  False  False   False\n",
      "1     False  False  False  False   False\n",
      "2     False  False  False  False   False\n",
      "3     False  False  False  False   False\n",
      "\n",
      "\n",
      "  Position       Team  GF  GA Points     W\n",
      "0        1        PSV  80  30     79   NaN\n",
      "1        2       Ajax  75  25     78  25.0\n",
      "2        3  Feyenoord  75  40     70  24.0\n",
      "3        4     Twente  70  60     66  19.0\n",
      "\n",
      "\n",
      "   Position   Team     GF     GA  Points      W\n",
      "0     False  False  False  False   False   True\n",
      "1     False  False  False  False   False  False\n",
      "2     False  False  False  False   False  False\n",
      "3     False  False  False  False   False  False\n"
     ]
    }
   ],
   "source": [
    "# search for NA (not available) entries in the DataFrame\n",
    "print(df.isna()) # No NA values\n",
    "print('\\n')\n",
    "\n",
    "# create a pandas Series with a NA value\n",
    "# the Series as W (winnin matches)\n",
    "tmp = pd.Series([np.NaN, 25, 24, 19],  name=\"W\")\n",
    "\n",
    "# concatenate the Series with the DataFrame\n",
    "df = pd.concat([df,tmp], axis = 1)\n",
    "print(df)\n",
    "print('\\n')\n",
    "\n",
    "# again, check for NA entries\n",
    "print(df.isna())"
   ]
  },
  {
   "cell_type": "markdown",
   "metadata": {},
   "source": [
    "## Dataset\n",
    "\n",
    "For this week exercises we will use a dataset from the Genomics of Drug Sensitivity in Cancer (GDSC) project (https://www.cancerrxgene.org/). In this study (['Iorio et al., Cell, 2016']()), 265 compounds were tested on 1001 cancer cell lines for which different types of -omics data (RNA expression, DNA methylation, Copy Number Alteration, DNA sequencing) are available. This is a valuable resource to look for biomarkers of drugs sensitivity in order to try to understand why cancer patients responds very differently to cancer drugs and find ways to assign the optimal treatment to each patient.\n",
    "\n",
    "For this exercise we will use a subset of the data, focusing the response to the drug YM155 (Sepantronium bromide) on four cancer types, for a total of 148 cancer cell lines.\n",
    "\n",
    "| ID          | Cancer type                      |\n",
    "|-------------|----------------------------------|\n",
    "|   COAD/READ | Colorectal adenocarcinoma        |\n",
    "|   NB        | Neuroblastoma                    |\n",
    "|   KIRC      | Kidney renal clear cell carcinoma|\n",
    "|   BRCA      | Breast carcinoma                 |\n",
    "\n",
    "We will use the RNA expression data (RMA normalised). Only genes with high variability across cell lines (variance > 5, resulting in 238 genes) have been kept.\n",
    "\n",
    "Drugs have been tested at different concentration, measuring each time the viability of the cells. Drug sensitivity is measured using the natural log of the fitted IC50 metric, which is defined as the half maximal inhibitory concentration. A lower IC50 corresponds to a more sensitive cell line because a lower amount of drug is sufficient to have a strong response, while a higher IC50 corresponds to a more resistant cell line because more drug is needed for killing the cells.\n",
    "\n",
    "Based on the IC50 metric, cells can be classified as sensitive or resistant. The classification is done by computing the $z$-score across all cell lines in the GDSC for each drug, and considering as sensitive the ones with $z$-score < 0 and resistant the ones with $z$-score > 0.\n",
    "\n",
    "The dataset is originally provided as 3 files ([original source](https://www.sciencedirect.com/science/article/pii/S0092867416307462?via%3Dihub)) :\n",
    "\n",
    "`GDSC_RNA_expression.csv`: gene expression matrix with the cell lines in the rows (148) and the genes in the columns (238).\n",
    "\n",
    "`GDSC_drug_response.csv`: vector with the cell lines response to the drug YM155 in terms of log(IC50) and as classification in sensitive or resistant.\n",
    "\n",
    "`GDSC_metadata.csv`: metadata for the 148 cell lines including name, COSMIC ID and tumor type (using the classification from ['The Cancer Genome Atlas TCGA'](https://www.cancer.gov/about-nci/organization/ccg/research/structural-genomics/tcga))\n",
    "\n",
    "For convenience, we provide the data already curated.\n",
    "\n",
    "`RNA_expression_curated.csv`: [148 cell lines , 238 genes]\n",
    "\n",
    "`drug_response_curated.csv`: [148 cell lines , YM155 drug]\n",
    "\n",
    "The curated data cam be read as `pandas` `DataFrame`s in the following way:"
   ]
  },
  {
   "cell_type": "code",
   "execution_count": 3,
   "metadata": {},
   "outputs": [
    {
     "name": "stdout",
     "output_type": "stream",
     "text": [
      "Index(['YM155'], dtype='object')\n"
     ]
    }
   ],
   "source": [
    "import pandas as pd\n",
    "\n",
    "gene_expression = pd.read_csv(\"./data/RNA_expression_curated.csv\", sep=',', header=0, index_col=0)\n",
    "drug_response = pd.read_csv(\"./data/drug_response_curated.csv\", sep=',', header=0, index_col=0)\n",
    "print(drug_response.columns)\n"
   ]
  },
  {
   "cell_type": "markdown",
   "metadata": {},
   "source": [
    "You can use the `DataFrame`s directly as inputs to the the `sklearn` models. The advantage over using `numpy` arrays is that the variable are annotated, i.e. each input and output has a name."
   ]
  },
  {
   "cell_type": "markdown",
   "metadata": {},
   "source": [
    "## Tools\n",
    "The `scikit-learn` library provides the required tools for linear regression/classification and shrinkage, as well as for logistic regression."
   ]
  },
  {
   "cell_type": "code",
   "execution_count": 6,
   "metadata": {},
   "outputs": [],
   "source": [
    "from sklearn.linear_model import LinearRegression\n",
    "from sklearn.linear_model import Ridge\n",
    "from sklearn.linear_model import Lasso\n",
    "from sklearn.linear_model import LogisticRegression"
   ]
  },
  {
   "cell_type": "markdown",
   "metadata": {},
   "source": [
    "Note that the notation used for the hyperparameters in the `scikit-learn` library is different from the one used in the lecture. More specifically, in the lecture $\\alpha$ is the tunable parameter to select the compromise between Ridge and Lasso. Whereas, `scikit-learn` library refers to `alpha` as the tunable parameter $\\lambda$. Please check the documentation for more details."
   ]
  },
  {
   "cell_type": "markdown",
   "metadata": {},
   "source": [
    "# Exercises\n",
    "\n",
    "## Selection of the hyperparameter\n",
    "\n",
    "Implement cross-validation (using `sklearn.grid_search.GridSearchCV`) to select the `alpha` hyperparameter of `sklearn.linear_model.Lasso`. \n",
    "\n",
    "\n",
    "## Feature selection\n",
    "\n",
    "Look at the features selected using the hyperparameter which corresponds to the minimum cross-validation error.\n",
    "\n",
    "<p><font color='#770a0a'>Is the partition in training and validation sets playing a role in the selection of the hyperparameter? How will this affect the selection of the relevant features?</font></p>\n",
    "\n",
    "<p><font color='#770a0a'>Should the value of the intercept also be shrunk to zero with Lasso and Ridge regression? Motivate your answer.</font></p>\n",
    "\n",
    "\n",
    "## Bias-variance \n",
    "\n",
    "Show the effect of the regularization on the parameter estimates in terms of bias and variance. For this you can repeat the optimization 100 times using bootstrap and visualise the profile of the Lasso regression coefficient over a grid of the hyperparameter, optionally including the variability as error bars.\n",
    "\n",
    "<p><font color='#770a0a'>Based on the visual analysis of the plot, what are your observation on bias and variance in relation to model complexity? Motivate your answer.</font></p>\n",
    "\n",
    "\n",
    "## Logistic regression\n",
    "\n",
    "<p><font color='#770a0a'>Write the expression of the objective function for the penalized logistic regression with $L_1$ and $L_2$ regularisation (as in Elastic net).</font></p>"
   ]
  },
  {
   "cell_type": "code",
   "execution_count": 14,
   "metadata": {},
   "outputs": [
    {
     "name": "stdout",
     "output_type": "stream",
     "text": [
      "the best alpha parameter is 0.94 and the mean squared error score on a test set is 4.051108643966494\n"
     ]
    },
    {
     "data": {
      "image/png": "[encoded data removed]",
      "text/plain": [
       "<Figure size 432x288 with 1 Axes>"
      ]
     },
     "metadata": {
      "needs_background": "light"
     },
     "output_type": "display_data"
    }
   ],
   "source": [
    "%matplotlib inline\n",
    "from sklearn.model_selection import train_test_split\n",
    "from sklearn.preprocessing import StandardScaler\n",
    "from sklearn.preprocessing import PolynomialFeatures\n",
    "from sklearn.linear_model import LinearRegression\n",
    "from sklearn.pipeline import Pipeline\n",
    "from sklearn.model_selection import GridSearchCV\n",
    "from sklearn.metrics import r2_score\n",
    "from sklearn.metrics import mean_squared_error \n",
    "import matplotlib.pyplot as plt\n",
    "import numpy as np\n",
    "\n",
    "def Lasso_analysis(X, y, number_of_degrees):\n",
    "    # split the data and targets into training and testing sets\n",
    "    X_train, X_test, y_train, y_test = train_test_split(X, y, random_state=1)\n",
    "\n",
    "\n",
    "    # define a grid search for the best apha hyperparameter \n",
    "    param_grid = {\n",
    "        'alpha': list(np.arange(0.1,number_of_degrees, 0.21)) \n",
    "    }\n",
    "\n",
    "    model = Lasso(max_iter = 1500)\n",
    "\n",
    "    # use GridSearchCV to find the best degree for the polynomial\n",
    "    grid_search = GridSearchCV(model, param_grid, cv=10, scoring='neg_mean_squared_error', error_score='raise') # why did you chose this Vivan?\n",
    "\n",
    "    grid_search.fit(X_train, y_train)\n",
    "\n",
    "    # get the best polynomial degree and model\n",
    "    best_degree = grid_search.best_params_['alpha']\n",
    "    best_model = grid_search.best_estimator_\n",
    "    \n",
    "\n",
    "    # make predictions using the best model on the test data\n",
    "    y_pred = best_model.predict(X_test)\n",
    "\n",
    "    # evaluate the model's performance on an independent test set using R2 score\n",
    "    mse = mean_squared_error(y_test, y_pred)\n",
    "\n",
    "    print('the best alpha parameter is', best_degree, \n",
    "          'and the mean squared error score on a test set is',mse)\n",
    "\n",
    "    # get the results from the grid search\n",
    "    results = grid_search.cv_results_\n",
    "\n",
    "    # get the polynomial degrees and test scores from the grid search results\n",
    "    degrees = results['param_alpha']\n",
    "    mean_test_scores = results['mean_test_score']  \n",
    "\n",
    "    # Plot the test score results (validation accuracy) as a function of the degree (polynomial order)\n",
    "    plt.figure()\n",
    "    plt.plot(degrees, mean_test_scores)\n",
    "    plt.xlabel('lambda')\n",
    "    plt.ylabel('Negative Mean Squared Error')\n",
    "    plt.title ('Mean Squared Error for different lambda')\n",
    "    plt.show()\n",
    "    return\n",
    "\n",
    "# experiment with diabetes dataset\n",
    "X_cancer_genes = gene_expression.copy().drop(gene_expression.columns[0], axis=1)\n",
    "y_drug_response = drug_response.copy()\n",
    "Lasso_analysis(X_cancer_genes,y_drug_response, 6)"
   ]
  }
 ],
 "metadata": {
  "kernelspec": {
   "display_name": "Python 3 (ipykernel)",
   "language": "python",
   "name": "python3"
  },
  "language_info": {
   "codemirror_mode": {
    "name": "ipython",
    "version": 3
   },
   "file_extension": ".py",
   "mimetype": "text/x-python",
   "name": "python",
   "nbconvert_exporter": "python",
   "pygments_lexer": "ipython3",
   "version": "3.6.13"
  }
 },
 "nbformat": 4,
 "nbformat_minor": 4
}
