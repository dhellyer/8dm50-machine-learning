{
 "cells": [
  {
   "cell_type": "markdown",
   "metadata": {},
   "source": [
    "# Preliminaries\n",
    "\n",
    "The `pandas` library allows the user several data structures for different data manipulation tasks:\n",
    "1. Data storage through its `Series` and `DataFrame` data structures.\n",
    "2. Data filtering using multiple methods from the package.\n",
    "3. Reading data from many different file formats such as `csv`, `txt`, `xlsx`, ...\n",
    "\n",
    "Below we provide a brief overview of the `pandas` functionalities needed for these exercises. The complete documentation can be found on the [`pandas` website](https://pandas.pydata.org/).\n",
    "\n",
    "## Pandas data structures\n",
    "\n",
    "### Series\n",
    "The Pandas Series data structure is similar to a one-dimensional array. It can store any type of data. The values are mutable but the size not.\n",
    "\n",
    "To create `Series`, we call the `pd.Series()` method and pass an array. A `Series` may also be created from a numpy array."
   ]
  },
  {
   "cell_type": "code",
   "execution_count": 2,
   "metadata": {},
   "outputs": [
    {
     "name": "stdout",
     "output_type": "stream",
     "text": [
      "0       1\n",
      "1      10\n",
      "2     100\n",
      "3    1000\n",
      "dtype: int64\n",
      "\n",
      "\n",
      "0          PSV\n",
      "1         Ajax\n",
      "2    Feyenoord\n",
      "3       Twente\n",
      "dtype: object\n"
     ]
    }
   ],
   "source": [
    "import pandas as pd\n",
    "import numpy as np\n",
    "\n",
    "first_series = pd.Series([1,10,100,1000])\n",
    "\n",
    "print(first_series)\n",
    "\n",
    "teams = np.array(['PSV','Ajax','Feyenoord','Twente'])\n",
    "second_series = pd.Series(teams)\n",
    "\n",
    "print('\\n')\n",
    "print(second_series)"
   ]
  },
  {
   "cell_type": "markdown",
   "metadata": {},
   "source": [
    "### DataFrame\n",
    "One can think of a `DataFrame` as a table with rows and columns (2D structure). The columns can be of a different type (as opposed to `numpy` arrays) and the size of the `DataFrame` is mutable.\n",
    "\n",
    "To create `DataFrame`, we call the `pd.DataFrame()` method and we can create it from scratch or we can convert a numpy array or a list into a `DataFrame`."
   ]
  },
  {
   "cell_type": "code",
   "execution_count": 4,
   "metadata": {},
   "outputs": [
    {
     "name": "stdout",
     "output_type": "stream",
     "text": [
      "From scratch: \n",
      "    Position       Team  GF  GA  Points\n",
      "0         1        PSV  80  30      79\n",
      "1         2       Ajax  75  25      78\n",
      "2         3  Feyenoord  75  40      70\n",
      "3         4     Twente  70  60      66 \n",
      "\n",
      "From list: \n",
      "   Position       Team  GF  GA Points\n",
      "0        1        PSV  80  30     79\n",
      "1        2       Ajax  75  25     78\n",
      "2        3  Feyenoord  75  40     70\n",
      "3        4     Twente  70  60     66 \n",
      "\n",
      "From numpy array: \n",
      "   Position       Team  GF  GA Points\n",
      "0        1        PSV  80  30     79\n",
      "1        2       Ajax  75  25     78\n",
      "2        3  Feyenoord  75  40     70\n",
      "3        4     Twente  70  60     66 \n",
      "\n"
     ]
    }
   ],
   "source": [
    "# DataFrame from scratch\n",
    "first_dataframe = pd.DataFrame({\n",
    "    \"Position\": [1, 2, 3, 4],\n",
    "    \"Team\": ['PSV','Ajax','Feyenoord','Twente'],\n",
    "    \"GF\": [80, 75, 75, 70],\n",
    "    \"GA\": [30, 25, 40, 60],\n",
    "    \"Points\": [79, 78, 70, 66]\n",
    "})\n",
    "\n",
    "print(\"From scratch: \\n {} \\n\".format(first_dataframe))\n",
    "\n",
    "# DataFrme from a list\n",
    "data = [[1, 2, 3, 4], ['PSV','Ajax','Feyenoord','Twente'], \n",
    "        [80, 75, 75, 70], [30, 25, 40, 60], [79, 78, 70, 66]]\n",
    "columns = [\"Position\", \"Team\", \"GF\", \"GA\", \"Points\"]\n",
    "\n",
    "second_dataframe = pd.DataFrame(data, index=columns)\n",
    "\n",
    "print(\"From list: \\n {} \\n\".format(second_dataframe.T)) # the '.T' operator is explained later on\n",
    "\n",
    "# DataFrame from numpy array\n",
    "data = np.array([[1, 2, 3, 4], ['PSV','Ajax','Feyenoord','Twente'], \n",
    "                 [80, 75, 75, 70], [30, 25, 40, 60], [79, 78, 70, 66]])\n",
    "columns = [\"Position\", \"Team\", \"GF\", \"GA\", \"Points\"]\n",
    "\n",
    "third_dataframe = pd.DataFrame(data.T, columns=columns)\n",
    "\n",
    "print(\"From numpy array: \\n {} \\n\".format(third_dataframe))"
   ]
  },
  {
   "cell_type": "markdown",
   "metadata": {},
   "source": [
    "### DataFrame attributes\n",
    "This section gives a quick overview of some of the `pandas.DataFrame` attributes such as `T`, `index`, `columns`, `iloc`, `loc`, `shape` and `values`."
   ]
  },
  {
   "cell_type": "code",
   "execution_count": 6,
   "metadata": {},
   "outputs": [
    {
     "name": "stdout",
     "output_type": "stream",
     "text": [
      "            0     1          2       3\n",
      "Position    1     2          3       4\n",
      "Team      PSV  Ajax  Feyenoord  Twente\n",
      "GF         80    75         75      70\n",
      "GA         30    25         40      60\n",
      "Points     79    78         70      66\n"
     ]
    }
   ],
   "source": [
    "# transpose the index and columns\n",
    "print(third_dataframe.T)"
   ]
  },
  {
   "cell_type": "code",
   "execution_count": 7,
   "metadata": {},
   "outputs": [
    {
     "name": "stdout",
     "output_type": "stream",
     "text": [
      "RangeIndex(start=0, stop=4, step=1)\n"
     ]
    }
   ],
   "source": [
    "# index makes reference to the row labels\n",
    "print(third_dataframe.index)"
   ]
  },
  {
   "cell_type": "code",
   "execution_count": 8,
   "metadata": {},
   "outputs": [
    {
     "name": "stdout",
     "output_type": "stream",
     "text": [
      "Index(['Position', 'Team', 'GF', 'GA', 'Points'], dtype='object')\n"
     ]
    }
   ],
   "source": [
    "# columns makes reference to the column labels\n",
    "print(third_dataframe.columns)"
   ]
  },
  {
   "cell_type": "code",
   "execution_count": 9,
   "metadata": {},
   "outputs": [
    {
     "name": "stdout",
     "output_type": "stream",
     "text": [
      "0          PSV\n",
      "1         Ajax\n",
      "2    Feyenoord\n",
      "3       Twente\n",
      "Name: Team, dtype: object\n"
     ]
    }
   ],
   "source": [
    "# iloc allows to access the index by integer-location (e.g. all team names, which are in the second columm)\n",
    "print(third_dataframe.iloc[:,1])"
   ]
  },
  {
   "cell_type": "code",
   "execution_count": 10,
   "metadata": {},
   "outputs": [
    {
     "name": "stdout",
     "output_type": "stream",
     "text": [
      "PSV\n"
     ]
    }
   ],
   "source": [
    "# loc allows to access the index by label(s)-location (e.g. all team names, which are in the \"Team\" columm)\n",
    "print(third_dataframe.loc[0, 'Team'])"
   ]
  },
  {
   "cell_type": "code",
   "execution_count": 11,
   "metadata": {},
   "outputs": [
    {
     "name": "stdout",
     "output_type": "stream",
     "text": [
      "(4, 5)\n"
     ]
    }
   ],
   "source": [
    "# shape returns a tuple with the DataFrame dimension, similar to numpy\n",
    "print(third_dataframe.shape)"
   ]
  },
  {
   "cell_type": "code",
   "execution_count": 12,
   "metadata": {},
   "outputs": [
    {
     "name": "stdout",
     "output_type": "stream",
     "text": [
      "[['1' 'PSV' '80' '30' '79']\n",
      " ['2' 'Ajax' '75' '25' '78']\n",
      " ['3' 'Feyenoord' '75' '40' '70']\n",
      " ['4' 'Twente' '70' '60' '66']]\n"
     ]
    }
   ],
   "source": [
    "# values return a Numpy representation of the DataFrame data\n",
    "print(third_dataframe.values)"
   ]
  },
  {
   "cell_type": "markdown",
   "metadata": {},
   "source": [
    "### DataFrame methods\n",
    "This section gives a quick overview of some of the `pandas.DataFrame` methods such as `head`, `describe`, `concat`, `groupby`,`rename`, `filter`, `drop` and `isna`. To import data from CSV or MS Excel files, we can make use of `read_csv` and `read_excel`, respectively."
   ]
  },
  {
   "cell_type": "code",
   "execution_count": 14,
   "metadata": {},
   "outputs": [
    {
     "name": "stdout",
     "output_type": "stream",
     "text": [
      "  Position       Team  GF  GA Points\n",
      "0        1        PSV  80  30     79\n",
      "1        2       Ajax  75  25     78\n",
      "2        3  Feyenoord  75  40     70\n",
      "3        4     Twente  70  60     66\n"
     ]
    }
   ],
   "source": [
    "# print the first few rows in your dataset with head()\n",
    "print(third_dataframe.head()) # In this case, it is not very useful because we don't have thousands of rows"
   ]
  },
  {
   "cell_type": "code",
   "execution_count": 15,
   "metadata": {},
   "outputs": [
    {
     "name": "stdout",
     "output_type": "stream",
     "text": [
      "       Position Team  GF  GA Points\n",
      "count         4    4   4   4      4\n",
      "unique        4    4   3   4      4\n",
      "top           1  PSV  75  30     79\n",
      "freq          1    1   2   1      1\n"
     ]
    }
   ],
   "source": [
    "# get the summary statistics of the DataFrame with describe()\n",
    "print(third_dataframe.describe())"
   ]
  },
  {
   "cell_type": "code",
   "execution_count": 16,
   "metadata": {},
   "outputs": [
    {
     "name": "stdout",
     "output_type": "stream",
     "text": [
      "  Position  Team  GF  GA Points\n",
      "0        1   PSV  80  30     79\n",
      "1        2  Ajax  75  25     78\n",
      "\n",
      "\n",
      "  Position       Team  GF  GA Points\n",
      "2        3  Feyenoord  75  40     70\n",
      "3        4     Twente  70  60     66\n",
      "\n",
      "\n",
      "  Position       Team  GF  GA Points\n",
      "0        1        PSV  80  30     79\n",
      "1        2       Ajax  75  25     78\n",
      "2        3  Feyenoord  75  40     70\n",
      "3        4     Twente  70  60     66\n"
     ]
    }
   ],
   "source": [
    "# concatenate (join) DataFrame objects using concat()\n",
    "\n",
    "# first, we will split the above DataFrame in two different ones\n",
    "df_a = third_dataframe.loc[[0,1],:]\n",
    "df_b = third_dataframe.loc[[2,3],:]\n",
    "\n",
    "print(df_a)\n",
    "print('\\n')\n",
    "\n",
    "print(df_b)\n",
    "print('\\n')\n",
    "\n",
    "# now, we concatenate both datasets\n",
    "df = pd.concat([df_a, df_b])\n",
    "\n",
    "print(df)"
   ]
  },
  {
   "cell_type": "code",
   "execution_count": 17,
   "metadata": {},
   "outputs": [
    {
     "name": "stdout",
     "output_type": "stream",
     "text": [
      "  Position       Team  GF  GA Points\n",
      "1        2       Ajax  75  25     78\n",
      "2        3  Feyenoord  75  40     70\n"
     ]
    }
   ],
   "source": [
    "# group the data by certain variable via groupby()\n",
    "# here, we have grouped the data by goals for, which in this case is 75\n",
    "\n",
    "group = df.groupby('GF')\n",
    "\n",
    "print(group.get_group('75'))"
   ]
  },
  {
   "cell_type": "code",
   "execution_count": 18,
   "metadata": {},
   "outputs": [
    {
     "name": "stdout",
     "output_type": "stream",
     "text": [
      "  Pos       Club  GF  GA Points\n",
      "0   1        PSV  80  30     79\n",
      "1   2       Ajax  75  25     78\n",
      "2   3  Feyenoord  75  40     70\n",
      "3   4     Twente  70  60     66\n"
     ]
    }
   ],
   "source": [
    "# rename() helps you change the column or index names\n",
    "print(df.rename(columns={'Position':'Pos','Team':'Club'}))"
   ]
  },
  {
   "cell_type": "code",
   "execution_count": 19,
   "metadata": {},
   "outputs": [
    {
     "name": "stdout",
     "output_type": "stream",
     "text": [
      "        Team Points\n",
      "0        PSV     79\n",
      "1       Ajax     78\n",
      "2  Feyenoord     70\n",
      "3     Twente     66\n"
     ]
    }
   ],
   "source": [
    "# build a subset of rows or columns of your dataset according to labels via filter()\n",
    "# here, items refer to the variable names: 'Team' and 'Points'; to select columns, we specify axis=1\n",
    "print(df.filter(items=['Team', 'Points'], axis=1))"
   ]
  },
  {
   "cell_type": "code",
   "execution_count": 20,
   "metadata": {},
   "outputs": [
    {
     "name": "stdout",
     "output_type": "stream",
     "text": [
      "  Position       Team Points\n",
      "0        1        PSV     79\n",
      "1        2       Ajax     78\n",
      "2        3  Feyenoord     70\n",
      "3        4     Twente     66\n"
     ]
    }
   ],
   "source": [
    "# dropping some labels\n",
    "print(df.drop(columns=['GF', 'GA']))"
   ]
  },
  {
   "cell_type": "code",
   "execution_count": 21,
   "metadata": {},
   "outputs": [
    {
     "name": "stdout",
     "output_type": "stream",
     "text": [
      "   Position   Team     GF     GA  Points\n",
      "0     False  False  False  False   False\n",
      "1     False  False  False  False   False\n",
      "2     False  False  False  False   False\n",
      "3     False  False  False  False   False\n",
      "\n",
      "\n",
      "  Position       Team  GF  GA Points     W\n",
      "0        1        PSV  80  30     79   NaN\n",
      "1        2       Ajax  75  25     78  25.0\n",
      "2        3  Feyenoord  75  40     70  24.0\n",
      "3        4     Twente  70  60     66  19.0\n",
      "\n",
      "\n",
      "   Position   Team     GF     GA  Points      W\n",
      "0     False  False  False  False   False   True\n",
      "1     False  False  False  False   False  False\n",
      "2     False  False  False  False   False  False\n",
      "3     False  False  False  False   False  False\n"
     ]
    }
   ],
   "source": [
    "# search for NA (not available) entries in the DataFrame\n",
    "print(df.isna()) # No NA values\n",
    "print('\\n')\n",
    "\n",
    "# create a pandas Series with a NA value\n",
    "# the Series as W (winnin matches)\n",
    "tmp = pd.Series([np.NaN, 25, 24, 19],  name=\"W\")\n",
    "\n",
    "# concatenate the Series with the DataFrame\n",
    "df = pd.concat([df,tmp], axis = 1)\n",
    "print(df)\n",
    "print('\\n')\n",
    "\n",
    "# again, check for NA entries\n",
    "print(df.isna())"
   ]
  },
  {
   "cell_type": "markdown",
   "metadata": {},
   "source": [
    "## Dataset\n",
    "\n",
    "For this week exercises we will use a dataset from the Genomics of Drug Sensitivity in Cancer (GDSC) project (https://www.cancerrxgene.org/). In this study (['Iorio et al., Cell, 2016']()), 265 compounds were tested on 1001 cancer cell lines for which different types of -omics data (RNA expression, DNA methylation, Copy Number Alteration, DNA sequencing) are available. This is a valuable resource to look for biomarkers of drugs sensitivity in order to try to understand why cancer patients responds very differently to cancer drugs and find ways to assign the optimal treatment to each patient.\n",
    "\n",
    "For this exercise we will use a subset of the data, focusing the response to the drug YM155 (Sepantronium bromide) on four cancer types, for a total of 148 cancer cell lines.\n",
    "\n",
    "| ID          | Cancer type                      |\n",
    "|-------------|----------------------------------|\n",
    "|   COAD/READ | Colorectal adenocarcinoma        |\n",
    "|   NB        | Neuroblastoma                    |\n",
    "|   KIRC      | Kidney renal clear cell carcinoma|\n",
    "|   BRCA      | Breast carcinoma                 |\n",
    "\n",
    "We will use the RNA expression data (RMA normalised). Only genes with high variability across cell lines (variance > 5, resulting in 238 genes) have been kept.\n",
    "\n",
    "Drugs have been tested at different concentration, measuring each time the viability of the cells. Drug sensitivity is measured using the natural log of the fitted IC50 metric, which is defined as the half maximal inhibitory concentration. A lower IC50 corresponds to a more sensitive cell line because a lower amount of drug is sufficient to have a strong response, while a higher IC50 corresponds to a more resistant cell line because more drug is needed for killing the cells.\n",
    "\n",
    "Based on the IC50 metric, cells can be classified as sensitive or resistant. The classification is done by computing the $z$-score across all cell lines in the GDSC for each drug, and considering as sensitive the ones with $z$-score < 0 and resistant the ones with $z$-score > 0.\n",
    "\n",
    "The dataset is originally provided as 3 files ([original source](https://www.sciencedirect.com/science/article/pii/S0092867416307462?via%3Dihub)) :\n",
    "\n",
    "`GDSC_RNA_expression.csv`: gene expression matrix with the cell lines in the rows (148) and the genes in the columns (238).\n",
    "\n",
    "`GDSC_drug_response.csv`: vector with the cell lines response to the drug YM155 in terms of log(IC50) and as classification in sensitive or resistant.\n",
    "\n",
    "`GDSC_metadata.csv`: metadata for the 148 cell lines including name, COSMIC ID and tumor type (using the classification from ['The Cancer Genome Atlas TCGA'](https://www.cancer.gov/about-nci/organization/ccg/research/structural-genomics/tcga))\n",
    "\n",
    "For convenience, we provide the data already curated.\n",
    "\n",
    "`RNA_expression_curated.csv`: [148 cell lines , 238 genes]\n",
    "\n",
    "`drug_response_curated.csv`: [148 cell lines , YM155 drug]\n",
    "\n",
    "The curated data cam be read as `pandas` `DataFrame`s in the following way:"
   ]
  },
  {
   "cell_type": "code",
   "execution_count": 23,
   "metadata": {},
   "outputs": [
    {
     "name": "stdout",
     "output_type": "stream",
     "text": [
      "Index(['YM155'], dtype='object')\n"
     ]
    }
   ],
   "source": [
    "import pandas as pd\n",
    "\n",
    "gene_expression = pd.read_csv(\"./data/RNA_expression_curated.csv\", sep=',', header=0, index_col=0)\n",
    "drug_response = pd.read_csv(\"./data/drug_response_curated.csv\", sep=',', header=0, index_col=0)\n",
    "print(drug_response.columns)\n"
   ]
  },
  {
   "cell_type": "markdown",
   "metadata": {},
   "source": [
    "You can use the `DataFrame`s directly as inputs to the the `sklearn` models. The advantage over using `numpy` arrays is that the variable are annotated, i.e. each input and output has a name."
   ]
  },
  {
   "cell_type": "markdown",
   "metadata": {},
   "source": [
    "## Tools\n",
    "The `scikit-learn` library provides the required tools for linear regression/classification and shrinkage, as well as for logistic regression."
   ]
  },
  {
   "cell_type": "code",
   "execution_count": 26,
   "metadata": {},
   "outputs": [],
   "source": [
    "from sklearn.linear_model import LinearRegression\n",
    "from sklearn.linear_model import Ridge\n",
    "from sklearn.linear_model import Lasso\n",
    "from sklearn.linear_model import LogisticRegression"
   ]
  },
  {
   "cell_type": "markdown",
   "metadata": {},
   "source": [
    "Note that the notation used for the hyperparameters in the `scikit-learn` library is different from the one used in the lecture. More specifically, in the lecture $\\alpha$ is the tunable parameter to select the compromise between Ridge and Lasso. Whereas, `scikit-learn` library refers to `alpha` as the tunable parameter $\\lambda$. Please check the documentation for more details."
   ]
  },
  {
   "cell_type": "markdown",
   "metadata": {},
   "source": [
    "# Exercises\n",
    "\n",
    "## Selection of the hyperparameter\n",
    "\n",
    "Implement cross-validation (using `sklearn.grid_search.GridSearchCV`) to select the `alpha` hyperparameter of `sklearn.linear_model.Lasso`. "
   ]
  },
  {
   "cell_type": "code",
   "execution_count": 4,
   "metadata": {},
   "outputs": [
    {
     "name": "stdout",
     "output_type": "stream",
     "text": [
      "The best alpha parameter is 0.94\n"
     ]
    },
    {
     "data": {
      "image/png": "[encoded data removed]",
      "text/plain": [
       "<Figure size 432x288 with 1 Axes>"
      ]
     },
     "metadata": {
      "needs_background": "light"
     },
     "output_type": "display_data"
    }
   ],
   "source": [
    "import pandas as pd\n",
    "from sklearn.linear_model import Lasso\n",
    "from sklearn.model_selection import train_test_split, GridSearchCV\n",
    "from sklearn.metrics import mean_squared_error\n",
    "import matplotlib.pyplot as plt\n",
    "import numpy as np\n",
    "\n",
    "def do_grid_search(X, y, number_of_degrees, model):\n",
    "    \"\"\"\n",
    "    Performs a gridsearch on the given data and returns the gridsearch results\n",
    "        INPUT:\n",
    "            X: features of the (training) dataset \n",
    "            y: output of the (training) dataset\n",
    "            number_of_degrees: number of degrees on which to perform the gridsearch\n",
    "        OUTPUT:\n",
    "            grid_search: the resulting grid Search\n",
    "    \"\"\"\n",
    "\n",
    "    # Define a grid search for the best alpha hyperparameter \n",
    "    param_grid = {'alpha': list(np.arange(0.1, number_of_degrees, 0.21))}\n",
    "\n",
    "    # Use GridSearchCV to find the best alpha for the Lasso model\n",
    "    grid_search = GridSearchCV(model, param_grid, cv=10, scoring='neg_mean_squared_error', error_score='raise')\n",
    "\n",
    "    grid_search.fit(X, y)\n",
    "    \n",
    "    return grid_search\n",
    "\n",
    "def get_grid_search_metrics(grid_search):\n",
    "    \"\"\"\n",
    "    Determines the best lambda and model. Using the best lambda and model calculates the 'results', a.k.a. the performance of said model.\n",
    "\n",
    "        INPUT:\n",
    "            grid_search: grid_search \n",
    "            X_test: features of the test dataset \n",
    "            y: output of the (training) dataset\n",
    "        OUTPUT:\n",
    "            results: the resulting grid Search (dictionary of numpy ndarrays)\n",
    "            best_alpha: the best hyperparameter\n",
    "    \"\"\"\n",
    "    \n",
    "    # Get the best alpha and model\n",
    "    best_alpha = grid_search.best_params_['alpha']\n",
    "    best_model = grid_search.best_estimator_\n",
    "\n",
    "    print(f'The best alpha parameter is {best_alpha}') \n",
    "        \n",
    "    # Get the results from the grid search\n",
    "    results = grid_search.cv_results_\n",
    "\n",
    "    return results, best_alpha\n",
    "\n",
    "def plot_results_gridsearch(results):\n",
    "    \"\"\"\n",
    "    Plots the negative mean squared error for different lambdas for a Lasso regression model.\n",
    "\n",
    "        INPUT: \n",
    "            results: the resulting grid Search (dictionary of numpy ndarrays)\n",
    "    \"\"\"\n",
    "\n",
    "    # Get the alpha values, mean test scores, and standard deviation of test scores from the grid search results\n",
    "    alphas = results['param_alpha']\n",
    "    mean_test_scores = results['mean_test_score']\n",
    "    std_test_scores = results['std_test_score']\n",
    "    \n",
    "    # Plot the test score results (validation accuracy) as a function of alpha with error bars\n",
    "    plt.figure()\n",
    "    plt.errorbar(alphas, mean_test_scores, yerr=std_test_scores, fmt='-o', capsize=5)\n",
    "    plt.xlabel('Alpha')\n",
    "    plt.ylabel('Negative Mean Squared Error')\n",
    "    plt.title('Mean Squared Error for different alpha values')\n",
    "    plt.show()\n",
    "\n",
    "# Load the data\n",
    "gene_expression = pd.read_csv(\"RNA_expression_curated.csv\", sep=',', header=0, index_col=0)\n",
    "drug_response = pd.read_csv(\"drug_response_curated.csv\", sep=',', header=0, index_col=0)\n",
    "\n",
    "# Prepare the input and output data\n",
    "X = gene_expression.values\n",
    "y = drug_response['YM155'].values\n",
    "\n",
    "# Split the data and targets into training and testing sets\n",
    "X_train, X_test, y_train, y_test = train_test_split(X, y, random_state=1)\n",
    "\n",
    "lasso_model = Lasso(max_iter=1500)\n",
    "grid_search = do_grid_search(X_train, y_train, 6, lasso_model)\n",
    "results, best_alpha = get_grid_search_metrics(grid_search)\n",
    "plot_results_gridsearch(results)"
   ]
  },
  {
   "cell_type": "markdown",
   "metadata": {},
   "source": [
    "## Feature selection\n",
    "\n",
    "Look at the features selected using the hyperparameter which corresponds to the minimum cross-validation error.\n",
    "\n",
    "<p><font color='#770a0a'>Is the partition in training and validation sets playing a role in the selection of the hyperparameter? How will this affect the selection of the relevant features?</font></p>\n",
    "\n",
    "<p> To test whether the partitioning plays a role, multiple random states seeds are used in the last code block below. The training sets are therefore partitioned differenty for each iteration. The best alpha is used to fit the lasso model and the remaining features are based on an importance of > 0. From the selected features we can see that there are a couple of overlapping features, but there are also some differences in chosen features. When changing the importance to > 0.05, the difference in selected features is much larger and seems to be more random. From this we can conclude that the partition of the training and test set does indeed play a role in the selected features using lasso regresssion. Although there are also clearly features that are generally concidered \"important\" regardless of the partitioning of the sets. \n",
    "</p>\n",
    "<p>\n",
    "Considering these facts it is important to wisely choose the importance threshhold/choosing how many features are dropped. Although dropping features generally helps in simplifaction of the model and the removal of redundant features it also generally increases the stochasticity of the model.\n",
    "</p>\n",
    "\n",
    "<p><font color='#770a0a'>Should the value of the intercept also be shrunk to zero with Lasso and Ridge regression? Motivate your answer.</font></p>\n",
    "\n",
    "<p>The value of the intercept should NOT be shrunk in either Lasso or Ridge regression, since it represent the middle/mean of the data-distribution. When this paramter would be shrunk it would introduce a bias to the model, since the average of all paramters would have moved.\n",
    "</p>\n",
    "\n",
    "\n"
   ]
  },
  {
   "cell_type": "code",
   "execution_count": 53,
   "metadata": {},
   "outputs": [
    {
     "name": "stderr",
     "output_type": "stream",
     "text": [
      "<ipython-input-53-03f6ba0eebb2>:7: UserWarning: With alpha=0, this algorithm does not converge well. You are advised to use the LinearRegression estimator\n",
      "  lasso.fit(X_train, y_train)\n",
      "c:\\ProgramData\\Anaconda3\\lib\\site-packages\\sklearn\\linear_model\\_coordinate_descent.py:647: UserWarning: Coordinate descent with no regularization may lead to unexpected results and is discouraged.\n",
      "  model = cd_fast.enet_coordinate_descent(\n",
      "c:\\ProgramData\\Anaconda3\\lib\\site-packages\\sklearn\\linear_model\\_coordinate_descent.py:647: ConvergenceWarning: Objective did not converge. You might want to increase the number of iterations, check the scale of the features or consider increasing regularisation. Duality gap: 1.605e-01, tolerance: 6.856e-02\n",
      "  model = cd_fast.enet_coordinate_descent(\n"
     ]
    },
    {
     "data": {
      "text/plain": [
       "Text(0.5, 1.0, 'Lasso coefficients as a function of alpha')"
      ]
     },
     "execution_count": 53,
     "metadata": {},
     "output_type": "execute_result"
    },
    {
     "data": {
      "image/png": "[encoded data removed]",
      "text/plain": [
       "<Figure size 432x288 with 1 Axes>"
      ]
     },
     "metadata": {
      "needs_background": "light"
     },
     "output_type": "display_data"
    }
   ],
   "source": [
    "alphas = np.linspace(0,4,100)\n",
    "lasso = Lasso(max_iter=1500)\n",
    "coefs = []\n",
    "\n",
    "for a in alphas:\n",
    "    lasso.set_params(alpha=a)\n",
    "    lasso.fit(X_train, y_train)\n",
    "    coefs.append(lasso.coef_)\n",
    "\n",
    "ax = plt.gca()\n",
    "\n",
    "ax.plot(alphas, coefs)\n",
    "#ax.set_xscale('log')\n",
    "plt.axis('tight')\n",
    "plt.xlabel('alpha')\n",
    "plt.ylabel('Standardized Coefficients')\n",
    "plt.title('Lasso coefficients as a function of alpha')"
   ]
  },
  {
   "cell_type": "code",
   "execution_count": 57,
   "metadata": {},
   "outputs": [
    {
     "name": "stdout",
     "output_type": "stream",
     "text": [
      "Selected Features: ['GAL' 'ABCB1' 'TSPAN8' 'SELENBP1' 'TACSTD2' 'AKR1C3']\n",
      "Selected Features: ['GAL' 'ABCB1' 'TSPAN8' 'RNF128' 'FABP1' 'TACSTD2' 'AKR1C3']\n",
      "Selected Features: ['GAL' 'ABCB1' 'TSPAN8' 'KRT7' 'TFF3' 'FABP1' 'NGFRAP1' 'TACSTD2' 'AKR1C3']\n",
      "Selected Features: ['GAL' 'ABCB1' 'TSPAN8' 'TACSTD2' 'PHGR1']\n"
     ]
    }
   ],
   "source": [
    "feature_names = gene_expression.columns\n",
    "\n",
    "# Test for multiple random states (different training data partitions if \n",
    "# the selected features are different)\n",
    "for i in range(1,5):\n",
    "    X_train, X_test, y_train, y_test = train_test_split(X, y, random_state=i)\n",
    "\n",
    "    # Call model with chosen hyperparameter:\n",
    "    chosen_lasso = Lasso(alpha = best_alpha)\n",
    "    chosen_lasso.fit(X_train, y_train)\n",
    "    \n",
    "    # Select the features based on importance (now set to 0)\n",
    "    chosen_features = np.array(feature_names)[abs(chosen_lasso.coef_)> 0]\n",
    "    print(\"Selected Features: {}\".format(chosen_features))"
   ]
  },
  {
   "cell_type": "markdown",
   "metadata": {},
   "source": [
    "## Bias-variance \n",
    "\n",
    "Show the effect of the regularization on the parameter estimates in terms of bias and variance. For this you can repeat the optimization 100 times using bootstrap and visualise the profile of the Lasso regression coefficient over a grid of the hyperparameter, optionally including the variability as error bars.\n",
    "\n",
    "<p><font color='#770a0a'>Based on the visual analysis of the plot, what are your observation on bias and variance in relation to model complexity? Motivate your answer.</font></p>\n",
    "\n",
    "The plot reveals a direct relationship between bias, variance, and model complexity as affected by Lasso regularisation. At lower values of $\\alpha$, the model exhibits high complexity, retaining many features with large Lasso coefficients. This complexity leads to lower bias, as the model closely fits the training data, but it also results in high variance, showing the model's susceptibility to overfitting. As $\\alpha$ increases, the coefficients decrease, and less influential features are removed, simplifying the model. This simplification reduces variance, making the model less sensitive to noise, but also increasing bias as the model may underfit the data by missing important patterns. The error bars, particularly at lower $\\alpha$ values, are larger reflecting the higher variability in the coefficient estimates due to the increased complexity and potential overfitting. As $\\alpha$ increases, the error bars narrow, indicating reduced variance and more stable coefficients. This illustrates the bias-variance trade-off. From this analysis, it is necessary to perform regularisation on the model in order to balance bias and variance and thus ensure that the model is neither too complex nor simple consequently minimising the generalisation error."
   ]
  },
  {
   "cell_type": "code",
   "execution_count": 137,
   "metadata": {},
   "outputs": [
    {
     "data": {
      "image/png": "[encoded data removed]",
      "text/plain": [
       "<Figure size 640x480 with 1 Axes>"
      ]
     },
     "metadata": {},
     "output_type": "display_data"
    }
   ],
   "source": [
    "from sklearn.utils import resample\n",
    "import matplotlib.pyplot as plt\n",
    "import numpy as np\n",
    "\n",
    "def lasso_bootstrap(X,y,alphas, n_bootstrap =100):\n",
    "    \"\"\"\n",
    "    X: input features\n",
    "    y: target variable\n",
    "    alphas: list of alpha values\n",
    "    n_bootstrap: number of bootstrap samples\n",
    "    \"\"\"\n",
    "\n",
    "    # create a matrix to store coefficients \n",
    "    # with every row is a bootstrap sample and every column is an alpha-value\n",
    "    coefficients = np.zeros((n_bootstrap, len(alphas), X.shape[1])) \n",
    "\n",
    "    # generate a bootstrap sample from the original dataset, n_bootstrap times\n",
    "    for b in range(n_bootstrap):\n",
    "        #Sampling with replacement\n",
    "        X_bootstrap, y_bootstrap = resample(X,y,random_state=b)\n",
    "\n",
    "        # loop over each alpha value to fit the lasso model\n",
    "        for i, alpha in enumerate(alphas):\n",
    "            # initialize the Lasso regression model with the current alpha value\n",
    "            lasso = Lasso(alpha=alpha)\n",
    "            # fit the lasso model to the bootstrap sample\n",
    "            lasso.fit(X_bootstrap,y_bootstrap)\n",
    "            # add the coefficients from the fitted model in the coefficients array\n",
    "            coefficients[b,i,:] = lasso.coef_\n",
    "            \n",
    "    # calculate the mean and standard deviation of the lasso regression coefficients\n",
    "    # for each feature across all bootstrap samples per alpha value\n",
    "    mean_coefficients = np.mean(coefficients, axis=0)\n",
    "    std_coefficients = np.std(coefficients, axis=0)\n",
    "\n",
    "    # plot the lasso regression coefficients of each feature for all alpha values\n",
    "    # with an errorbar(std)\n",
    "    for feature in range(X.shape[1]):\n",
    "        plt.errorbar(alphas, \n",
    "                     mean_coefficients[:, feature], \n",
    "                     yerr=std_coefficients[:, feature], \n",
    "                     marker ='.',\n",
    "                    elinewidth=0.5,\n",
    "                    linewidth=1,\n",
    "                    capsize=4)\n",
    "\n",
    "    plt.xlabel(r'$\\alpha$')\n",
    "    plt.ylabel('Lasso coefficients')\n",
    "    plt.title('Effect of regularization on Lasso coefficients for each feature') \n",
    "    plt.show()\n",
    "\n",
    "# create array of alpha values\n",
    "alphas = np.linspace(1, 6, 30)\n",
    "# plot the effect of the regularization on the parameter estimates\n",
    "lasso_bootstrap(X,y, alphas, n_bootstrap =10)"
   ]
  },
  {
   "cell_type": "markdown",
   "metadata": {},
   "source": [
    "## Logistic regression\n",
    "\n",
    "<p><font color='#770a0a'>Write the expression of the objective function for the penalized logistic regression with $L_1$ and $L_2$ regularisation (as in Elastic net).</font></p>"
   ]
  },
  {
   "cell_type": "markdown",
   "metadata": {},
   "source": [
    "- L1 is Lasso; Promotes sparcity of varables in a model\n",
    "- L2 is Ridge; Shrinks large values to make a smoother model\n",
    "- L1 + L2 is Elastic; Sparcifies the model, but keeps correlated structure via L2\n",
    "\n",
    "To create the penalized logistic regression, we will have to combine a logistic regression additivly with L1 and L2 regularization.\n",
    "\n",
    "The logistic regression term is the following:\n",
    "\n",
    "$\\frac{1}{n} \\sum_{i=1}^{n} \\left( -y_i \\log(h_\\beta(x_i)) - (1 - y_i) \\log(1 - h_\\beta(x_i)) \\right)$\n",
    "\n",
    "With \n",
    "- n being the number of datapoints\n",
    "- $y_i$ as the binary label for the i-th datapoint\n",
    "- $h_\\beta(x_i)$ being the sigmoid function \n",
    "\n",
    "The $L_1$ term is:\n",
    "\n",
    "$\\lambda \\sum_{j=1}^{p} |\\beta_j$\n",
    "\n",
    "Where\n",
    "- $\\lambda$ is the regualrization strength, it determines the regularization terms overal effect\n",
    "- p is the number of features\n",
    "- $\\beta_j$ represents the model coefficient\n",
    "\n",
    "The $L_2$ term is:\n",
    "\n",
    "$(1 - \\alpha) \\lambda \\sum_{j=1}^{p} \\beta_j^2$\n",
    "\n",
    "When combining them additivly and adding $\\alpha$, the parameter that determines the balance between L1 and L2 regularization, the following equation is gotten:\n",
    "\n",
    "$\\mathcal{L}(\\beta) = \\frac{1}{n} \\sum_{i=1}^{n} \\left( -y_i \\log(h_\\beta(x_i)) - (1 - y_i) \\log(1 - h_\\beta(x_i)) \\right) + \\alpha \\lambda \\sum_{j=1}^{p} |\\beta_j| + (1 - \\alpha) \\lambda \\sum_{j=1}^{p} \\beta_j^2$\n",
    "\n",
    "Sometimes, due to mathmatical convenience during optimization, the L2 term is halfed. So that the derivative of the 2 term amounts to $\\lambda \\beta_j$ instead of $\\lambda 2\\beta_j$. So then the following equation is gotten:\n",
    "\n",
    "$\\mathcal{L}(\\beta) = \\frac{1}{n} \\sum_{i=1}^{n} \\left( -y_i \\log(h_\\beta(x_i)) - (1 - y_i) \\log(1 - h_\\beta(x_i)) \\right) + \\alpha \\lambda \\sum_{j=1}^{p} |\\beta_j| + \\frac{(1 - \\alpha)}{2} \\lambda \\sum_{j=1}^{p} \\beta_j^2$\n",
    "\n"
   ]
  }
 ],
 "metadata": {
  "kernelspec": {
   "display_name": "Python 3 (ipykernel)",
   "language": "python",
   "name": "python3"
  },
  "language_info": {
   "codemirror_mode": {
    "name": "ipython",
    "version": 3
   },
   "file_extension": ".py",
   "mimetype": "text/x-python",
   "name": "python",
   "nbconvert_exporter": "python",
   "pygments_lexer": "ipython3",
   "version": "3.12.4"
  }
 },
 "nbformat": 4,
 "nbformat_minor": 4
}
