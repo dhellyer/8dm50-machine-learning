{
 "cells": [
  {
   "cell_type": "markdown",
   "metadata": {},
   "source": [
    "# Under- and overfitting, model selection\n",
    "\n",
    "## Preliminaries\n",
    "\n",
    "In the first set of exercises you had to implement the training and evaluation of the linear regression and $k$-NN methods from scratch in order to practice your `numpy` skills. From this set of exercises onward, you can use the implementations provided in `scikit-learn` or other higher-level libraries. We start this set of exercises by demonstrating some of the features of `scikit-learn`.\n",
    "\n",
    "For example, implementation of linear regression model fitting with an analytical solution for the parameters is provided by the class `sklearn.linar_model.LinearRegression`. You can train a linear regression model in the following way:"
   ]
  },
  {
   "cell_type": "code",
   "execution_count": 1,
   "metadata": {},
   "outputs": [
    {
     "data": {
      "text/plain": [
       "LinearRegression()"
      ]
     },
     "execution_count": 1,
     "metadata": {},
     "output_type": "execute_result"
    }
   ],
   "source": [
    "import numpy as np\n",
    "from sklearn import datasets, linear_model\n",
    "\n",
    "# load the diabetes dataset\n",
    "diabetes = datasets.load_diabetes()\n",
    "\n",
    "# use only one feature\n",
    "X = diabetes.data[:, np.newaxis, 2]\n",
    "y = diabetes.target\n",
    "\n",
    "# split the data into training/testing sets\n",
    "X_train = X[:-20]\n",
    "X_test = X[-20:]\n",
    "\n",
    "# split the targets into training/testing sets\n",
    "y_train = y[:-20]\n",
    "y_test = y[-20:]\n",
    "\n",
    "# create linear regression object\n",
    "model = linear_model.LinearRegression()\n",
    "\n",
    "# train the model using the training dataset\n",
    "model.fit(X_train, y_train)"
   ]
  },
  {
   "cell_type": "markdown",
   "metadata": {},
   "source": [
    "Let's visualize the training dataset and the learned regression model."
   ]
  },
  {
   "cell_type": "code",
   "execution_count": 2,
   "metadata": {},
   "outputs": [
    {
     "data": {
      "image/png": "[encoded data removed]",
      "text/plain": [
       "<Figure size 432x288 with 1 Axes>"
      ]
     },
     "metadata": {
      "needs_background": "light"
     },
     "output_type": "display_data"
    }
   ],
   "source": [
    "%matplotlib inline\n",
    "import matplotlib.pyplot as plt\n",
    "\n",
    "fig = plt.figure()\n",
    "plt.plot(X_train, y_train, 'r.', markersize=12)\n",
    "X_edge = np.array([np.min(X_train, 0), np.max(X_train, 0)])\n",
    "plt.plot(X_edge, model.predict(X_edge), 'b-')\n",
    "plt.legend(('Data', 'Linear regression'), loc='lower right')\n",
    "plt.title('Linear regression')\n",
    "plt.xlabel('$x$')\n",
    "plt.ylabel('$y$')\n",
    "plt.show()"
   ]
  },
  {
   "cell_type": "markdown",
   "metadata": {},
   "source": [
    "Once trained, the model can be used to make predictions on the test data:"
   ]
  },
  {
   "cell_type": "code",
   "execution_count": 3,
   "metadata": {},
   "outputs": [],
   "source": [
    "# Make predictions using the testing dataset\n",
    "prediction = model.predict(X_test)"
   ]
  },
  {
   "cell_type": "markdown",
   "metadata": {},
   "source": [
    "The next step (not shown here) is to evaluate the performance of the trained model.\n",
    "\n",
    "Note that the `scikit-learn` interface works by first initializing an object from the class that implements the machine learning model (linear regression in this case) and then fitting the initialized model using the data in the training set. Finally, the trained (fitted) model can be used to make predictions on unseen data. In fact, all models implemented in this library follow the same *initialize-fit-predict* programming interface. For example, a $k$-NN classifier can be trained in the following way:"
   ]
  },
  {
   "cell_type": "code",
   "execution_count": 4,
   "metadata": {},
   "outputs": [],
   "source": [
    "from sklearn.model_selection import train_test_split\n",
    "from sklearn import datasets, neighbors\n",
    "\n",
    "breast_cancer = datasets.load_breast_cancer()\n",
    "\n",
    "X = breast_cancer.data\n",
    "y = breast_cancer.target\n",
    "\n",
    "# make use of the train_test_split() utility function instead\n",
    "# of manually dividing the data\n",
    "X_train, X_test, y_train, y_test = train_test_split(X, y, stratify=y, random_state=40)\n",
    "\n",
    "# initialize a 3-NN classifier\n",
    "model = neighbors.KNeighborsClassifier(n_neighbors=3)\n",
    "\n",
    "# train the model using the training dataset\n",
    "model.fit(X_train, y_train)\n",
    "\n",
    "# make predictions using the testing dataset\n",
    "prediction = model.predict(X_test)"
   ]
  },
  {
   "cell_type": "markdown",
   "metadata": {},
   "source": [
    "Note that the features in the breast cancer dataset have different scales (some have on average very small absolute values, and some very large), which means that the distance metric used by $k$-NN will me dominated by the features with large values. You can use any of the number of feature transformation methods implemented in `scikit-learn` to scale the features. For example, you can use the `sklearn.preprocessing.StandardScaler` method to transform all features to a have a zero mean and unit variance:"
   ]
  },
  {
   "cell_type": "code",
   "execution_count": 5,
   "metadata": {},
   "outputs": [],
   "source": [
    "from sklearn.preprocessing import StandardScaler\n",
    "\n",
    "scaler = StandardScaler()\n",
    "scaler.fit(X_train)\n",
    "\n",
    "X_train_scaled = scaler.transform(X_train)"
   ]
  },
  {
   "cell_type": "markdown",
   "metadata": {},
   "source": [
    "The scaler has its own parameters which are the means and standard deviations of the features estimated from the training set. If you train a model with the scaled features, you will have to remember to also apply the scaling transformation every time you make a prediction on new unseen and unscaled data. This is somewhat prone to error. One option for making the code more robust is to create a processing pipeline that includes the scaling and $k$-NN models in a sequence:"
   ]
  },
  {
   "cell_type": "code",
   "execution_count": 6,
   "metadata": {},
   "outputs": [],
   "source": [
    "from sklearn.pipeline import Pipeline\n",
    "\n",
    "knn = neighbors.KNeighborsClassifier(n_neighbors=3)\n",
    "\n",
    "model = Pipeline([\n",
    "                 (\"scaler\", scaler),\n",
    "                 (\"knn\", knn)\n",
    "                ])\n",
    "\n",
    "# train the model using the training dataset\n",
    "model.fit(X_train, y_train)\n",
    "\n",
    "# make predictions using the testing dataset\n",
    "prediction = model.predict(X_test)\n"
   ]
  },
  {
   "cell_type": "markdown",
   "metadata": {},
   "source": [
    "If you are curious, more information about the design of the `scikit-learn` application programming interface (API) can be found [in this paper](https://arxiv.org/pdf/1309.0238.pdf). "
   ]
  },
  {
   "cell_type": "markdown",
   "metadata": {},
   "source": [
    "## Exercises\n",
    "\n",
    "### Bias-variance decomposition\n",
    "\n",
    "Show that the mean squared error of the estimate of a parameter can be decomposed into an expression that includes both the bias and variance (Eq. 5.53-5.54 in \"Deep learning\" by Goodfellow et al.). "
   ]
  },
  {
   "cell_type": "markdown",
   "metadata": {},
   "source": [
    "The definitions of \"Deep learning\" by Goodfellow et al. were used.[1]\n",
    "\n",
    "The Mean Squared Error of the estimate of a parameter has the following definition:\n",
    "$$\n",
    "\\text{MSE}(\\hat{\\theta}_m) = \\mathbb{E}\\left[ (\\hat{\\theta}_m - \\theta)^2 \\right]\n",
    "$$\n",
    "\n",
    "The Bias is defined as follows:\n",
    "$$\n",
    "\\text{Bias}(\\hat{\\theta}_m) = \\mathbb{E}[\\hat{\\theta}_m] - \\theta\n",
    "$$\n",
    "\n",
    "And the Variance has the following definition:\n",
    "$$\n",
    "\\text{Var}(\\hat{\\theta}_m) = \\mathbb{E}\\left[ (\\hat{\\theta}_m - \\mathbb{E}[\\hat{\\theta}_m])^2 \\right]\n",
    "$$\n",
    "\\\n",
    "\\\n",
    "\\\n",
    "\\\n",
    "\n",
    "With these definitions it can be shown that by adding and subtracting $\\mathbb{E}[\\hat{\\theta}_m]$ inside the term:\n",
    "\n",
    "\n",
    "$$\n",
    "\\text{MSE}(\\hat{\\theta}_m) = \\mathbb{E}\\left[ (\\hat{\\theta}_m - \\mathbb{E}[\\hat{\\theta}_m] + \\mathbb{E}[\\hat{\\theta}_m] - \\theta)^2 \\right]\n",
    "$$\n",
    "\n",
    "Then the square is extended:\n",
    "\n",
    "$$\n",
    "\\text{MSE}(\\hat{\\theta}_m) = \\mathbb{E}\\left[ (\\hat{\\theta}_m - \\mathbb{E}[\\hat{\\theta}_m])^2 + 2(\\hat{\\theta}_m - \\mathbb{E}[\\hat{\\theta}_m])(\\mathbb{E}[\\hat{\\theta}_m] - \\theta) + (\\mathbb{E}[\\hat{\\theta}_m] - \\theta)^2 \\right]\n",
    "$$\n",
    "\n",
    "Noting that $\\mathbb{E}[\\hat{\\theta}_m - \\mathbb{E}[\\hat{\\theta}_m]] = 0$, it is gotten that $\\mathbb{E}[2(\\hat{\\theta}_m - \\mathbb{E}[\\hat{\\theta}_m])(\\mathbb{E}[\\hat{\\theta}_m] - \\theta)] = 0$, so the equation can be rewritten as:\n",
    "\n",
    "$$\n",
    "\\text{MSE}(\\hat{\\theta}_m) = \\mathbb{E}\\left[ (\\hat{\\theta}_m - \\mathbb{E}[\\hat{\\theta}_m])^2 \\right] + (\\mathbb{E}[\\hat{\\theta}_m] - \\theta)^2\n",
    "$$\n",
    "\n",
    "Together with the definitions of Bias and Variance, this simplifies to:\n",
    "\n",
    "$$\n",
    "\\text{MSE}(\\hat{\\theta}_m) = \\text{Var}(\\hat{\\theta}_m) + \\text{Bias}(\\hat{\\theta}_m)^2\n",
    "$$\n",
    "\n",
    "So it is shown that the mean squared error of the estimate of a parameter can be decomposed into an expression that includes both the bias and variance.\n",
    "\n",
    "**Citation:**\n",
    "\n",
    "[1]Goodfellow, Ian, Yoshua Bengio, and Aaron Courville. *Deep Learning*. MIT Press, 2016. Available at: [http://www.deeplearningbook.org](http://www.deeplearningbook.org).\n"
   ]
  },
  {
   "cell_type": "markdown",
   "metadata": {},
   "source": [
    "### Polynomial regression\n",
    "\n",
    "For this exercise we will be using generated data to better show the effects of the different polynomial orders.\n",
    "The data is created using the make_polynomial_regression function."
   ]
  },
  {
   "cell_type": "code",
   "execution_count": 7,
   "metadata": {},
   "outputs": [
    {
     "data": {
      "text/plain": [
       "[<matplotlib.lines.Line2D at 0x16f1d4dd0b8>]"
      ]
     },
     "execution_count": 7,
     "metadata": {},
     "output_type": "execute_result"
    },
    {
     "data": {
      "image/png": "[encoded data removed]",
      "text/plain": [
       "<Figure size 432x288 with 1 Axes>"
      ]
     },
     "metadata": {
      "needs_background": "light"
     },
     "output_type": "display_data"
    }
   ],
   "source": [
    "%matplotlib inline\n",
    "\n",
    "def generate_dataset(n=100, degree=1, noise=1, factors=None):\n",
    "    # Generates a dataset by adding random noise to a randomly\n",
    "    # generated polynomial function.\n",
    "    \n",
    "    x = np.random.uniform(low=-1, high=1, size=n)\n",
    "    \n",
    "    factors = np.random.uniform(0, 10, degree+1)\n",
    "    \n",
    "    y = np.zeros(x.shape)\n",
    "    \n",
    "    for idx in range(degree+1):\n",
    "        y += factors[idx] * (x ** idx)\n",
    "\n",
    "    # add noise\n",
    "    y += np.random.normal(-noise, noise, n)\n",
    "    \n",
    "    return x, y\n",
    "\n",
    "# load generated data\n",
    "np.random.seed(0)\n",
    "\n",
    "X, y = generate_dataset(n=100, degree=4, noise=1.5)\n",
    "\n",
    "plt.plot(X, y, 'r.', markersize=12)"
   ]
  },
  {
   "cell_type": "markdown",
   "metadata": {},
   "source": [
    "Implement polynomial regression using the `sklearn.preprocessing.PolynomialFeatures` transformation. Using the `sklearn.grid_search.GridSearchCV` class, perform a grid search of the polynomial order hyperparameter space with cross-validation and report the performance on an independent test set.\n",
    "\n",
    "Plot a learning curve that show the validation accuracy as a function of the polynomial order. \n",
    "\n",
    "<p><font color='#770a0a'>Which models have a high bias, and which models have high variance? Motivate your answer.</font><p>\n",
    "    \n",
    "Repeat this experiment, this time using the diabetes dataset instead of the generated data."
   ]
  },
  {
   "cell_type": "markdown",
   "metadata": {},
   "source": [
    "### ROC curve analysis\n",
    "A common method to evaluate binary classifiers is the receiver operating characteristic (ROC) curve. Similar to the week one practicals, implement a $k$-NN classifier on the breast cancer dataset, however, his time use the $k$-NN pipeline from the preliminary. Train the model for different values of $k$ and evaluate their respective performance with an ROC curve, use the `sklearn.metrics.roc_curve` function."
   ]
  },
  {
   "cell_type": "code",
   "execution_count": 13,
   "metadata": {},
   "outputs": [
    {
     "data": {
      "image/png": "[encoded data removed]",
      "text/plain": [
       "<Figure size 432x360 with 1 Axes>"
      ]
     },
     "metadata": {
      "needs_background": "light"
     },
     "output_type": "display_data"
    },
    {
     "data": {
      "image/png": "[encoded data removed]",
      "text/plain": [
       "<Figure size 432x288 with 1 Axes>"
      ]
     },
     "metadata": {
      "needs_background": "light"
     },
     "output_type": "display_data"
    },
    {
     "name": "stdout",
     "output_type": "stream",
     "text": [
      "The negative ratio is: 0.37258347978910367 \n",
      "While the positive ratio is 0.6274165202108963\n"
     ]
    }
   ],
   "source": [
    "### TO DO : (Move to functions file) #######\n",
    "def knn_classfier(k, X, y):\n",
    "    knn = neighbors.KNeighborsClassifier(n_neighbors=k)\n",
    "    scaler = StandardScaler()\n",
    "    model_knn = Pipeline([\n",
    "                 (\"scaler\", scaler),\n",
    "                 (\"knn\", knn)\n",
    "                ])  \n",
    "    \n",
    "    # train the model using the training dataset\n",
    "    model_knn.fit(X, y)  \n",
    "    return model_knn\n",
    "\n",
    "#####################################\n",
    "\n",
    "from sklearn.metrics import roc_curve\n",
    "import collections\n",
    "\n",
    "# Import data\n",
    "breast_cancer = datasets.load_breast_cancer()\n",
    "\n",
    "X = breast_cancer.data\n",
    "y = breast_cancer.target\n",
    "\n",
    "# Split data into training and test set\n",
    "X_train, X_test, y_train, y_test = train_test_split(X, y, stratify=y, test_size = 0.3, random_state=27)\n",
    "\n",
    "# Initialize list were accuracies are saved\n",
    "train_acc = []\n",
    "test_acc = []\n",
    "\n",
    "# Innitialize which k-nn models are analyzed\n",
    "neighbors_ = [2, 5, 10, 20, 40] \n",
    "\n",
    "plt.figure(figsize=(6, 5))  \n",
    "\n",
    "# Loop over all K-nn models\n",
    "for k in neighbors_:\n",
    "    # Make the k-nn model\n",
    "    model_knn = knn_classfier(k, X_train, y_train)\n",
    "    \n",
    "    # Get accuracies\n",
    "    train_acc.append(model_knn.score(X_train, y_train))\n",
    "    test_acc.append(model_knn.score(X_test, y_test))\n",
    "    \n",
    "    # Make ROC curve data\n",
    "    y_pred_proba = model_knn.predict_proba(X_test)[:,1]\n",
    "    fpr, tpr, thresholds = roc_curve(y_test, y_pred_proba)\n",
    "    \n",
    "    # Plot ROC curve\n",
    "    plt.plot(fpr, tpr, label=f'KNN (k={k})')\n",
    "\n",
    "# Draw dotted reference line\n",
    "plt.plot([0, 1], [0, 1], 'k--')\n",
    "\n",
    "# Add labels and title and legend\n",
    "plt.xlabel('False Positive Rate (FPR)')\n",
    "plt.ylabel('True Positive Rate (TPR)')\n",
    "plt.title('ROC Curve for K-NN Classifier')\n",
    "plt.legend()\n",
    "plt.show()\n",
    "    \n",
    "#Make accuracies plot\n",
    "plt.title('k-NN accuracy')\n",
    "plt.plot(neighbors_, train_acc, label='Training Accuracy')\n",
    "plt.plot(neighbors_, test_acc, label='Testing accuracy')\n",
    "plt.legend()\n",
    "plt.xlabel('Number of neighbors')\n",
    "plt.ylabel('Accuracy')\n",
    "plt.show()\n",
    "\n",
    "# Calculate ration of y\n",
    "counter = collections.Counter(y)\n",
    "negative_ratio = counter[0]/len(y)\n",
    "postive_ratio = counter[1]/len(y)\n",
    "print(\"The negative ratio is:\", negative_ratio,\"\\nWhile the positive ratio is\", postive_ratio)"
   ]
  },
  {
   "cell_type": "markdown",
   "metadata": {},
   "source": [
    "#### ROC Curve Analysis\n",
    "\n",
    "The ROC curve is plotted for 5 differen K-nn models, each with a different number of neigbours (2, 5, 10, 20 and 40). In general we can see that all models peform well since their main curve is most concentrated in the upper left corner. This is supported further by the accuracy plot, where the accuracy remains high for both the training as wel ass the testing accuracy regardless of number of neighbours."
   ]
  },
  {
   "cell_type": "markdown",
   "metadata": {},
   "source": [
    "### $F_1$ score and Dice similarity coefficient\n",
    "\n",
    "The Dice similarity coefficient is a very popular evaluation measure for image segmentation applications. Assuming that $A$ is the ground truth segmentation of an object represented as a binary image, and $B$ is the binary output of an image segmentation method, the Dice similarity coefficient is computed as:\n",
    "\n",
    "$\\text{Dice}(A,B) = \\frac{2|A\\cap B|}{|A| + |B|}$\n",
    "\n",
    "where $|\\cdot|$ represents the cardinality of the objects (e.g. $|A|$ is the number of non-zero pixels in the ground truth segmentation).\n",
    "\n",
    "For example, the Dice similarity can be computed in the following way:"
   ]
  },
  {
   "cell_type": "code",
   "execution_count": 83,
   "metadata": {},
   "outputs": [
    {
     "name": "stdout",
     "output_type": "stream",
     "text": [
      "0.3402777777777778\n"
     ]
    },
    {
     "data": {
      "image/png": "[encoded data removed]",
      "text/plain": [
       "<Figure size 432x288 with 1 Axes>"
      ]
     },
     "metadata": {
      "needs_background": "light"
     },
     "output_type": "display_data"
    }
   ],
   "source": [
    "# generate some test objecys\n",
    "A = np.zeros((32, 32))\n",
    "A[10:-10, 10:-10] = 1\n",
    "B = np.zeros((32, 32))\n",
    "B[5:-15, 5:-15] = 1\n",
    "\n",
    "dice = 2*np.sum(A*B)/(np.sum(A)+np.sum(B))\n",
    "\n",
    "# display the results\n",
    "plt.plot()\n",
    "plt.imshow(A)\n",
    "plt.imshow(B, alpha=0.7)\n",
    "\n",
    "print(dice)"
   ]
  },
  {
   "cell_type": "markdown",
   "metadata": {},
   "source": [
    "<p><font color='#770a0a'>Show that the $F_1$ score, which is the harmonic mean of precision and recall, is equivalent to the Dice similarity coefficient</font><p>\n",
    "The dice score gives an output between 0 and 1. With 1 indicating perfect overlap between two matrices and 0 being the two binary matrices do not overlap at all. \n",
    "\n",
    "The F1 score is a good measure of model performance, especially for classification models. An advantage of F1 scores, is that it accounts for false positives and false negatives as well. The performance metric accuracy for example, does not take this into account. Besides its' ability to take into account false positives and false negatives, the F1 score is helpful as well, because measurements like accuracy are sometimes only trustworthy when the dataset has an equal number of samples for each class. \n",
    "\n",
    "The F1 score consists of the harmonic mean of precision and recall. Precision is calculated by dividing the number of true positives, by the total amount of positives. FORMULA \n",
    "Whereas recall is the total number of true positives, divided by the sum of true positives and false negatives. \n",
    "\n",
    "Both are model evaluation techniques. \n",
    "\n",
    "Similarly to the dice similarity coefficient, the F1 score gives an output between 0 and 1. An $F_1$ score of 1 indicates that a model was made, that made all the correct predictions. \n",
    "\n",
    "The formula for the F1 score looks as follows: \n",
    "$\\text{F1} = 2 * (text{Precision} * text{Recall})/(text{Precision} + text{Recall}). \n",
    "\n",
    "Rerwiting this with true positives (TP), false positives (FP) and false negatives (FN):\n",
    "\n",
    "\n",
    "\n",
    "\n",
    "\n",
    "CONNECT BACK TO DICE"
   ]
  }
 ],
 "metadata": {
  "kernelspec": {
   "display_name": "Python 3 (ipykernel)",
   "language": "python",
   "name": "python3"
  },
  "language_info": {
   "codemirror_mode": {
    "name": "ipython",
    "version": 3
   },
   "file_extension": ".py",
   "mimetype": "text/x-python",
   "name": "python",
   "nbconvert_exporter": "python",
   "pygments_lexer": "ipython3",
   "version": "3.6.13"
  }
 },
 "nbformat": 4,
 "nbformat_minor": 2
}
