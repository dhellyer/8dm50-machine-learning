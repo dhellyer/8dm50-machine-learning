{
 "cells": [
  {
   "cell_type": "markdown",
   "metadata": {},
   "source": [
    "# Getting started with the practicals\n",
    "\n",
    "***These notebooks are best viewed in Jupyter. GitHub might not display all content of the notebook properly.***\n",
    "\n",
    "## Goal of the practical exercises\n",
    "\n",
    "The exercises have two goals:\n",
    "\n",
    "1. Give you the opportunity to obtain 'hands-on' experience in implementing, training and evaluation machine learning models in Python. This experience will also help you better understand the theory covered during the lectures. \n",
    "\n",
    "2. Occasionally demonstrate some 'exam-style' questions that you can use as a reference when studying for the exam. Note however that the example questions are (as the name suggests) only examples and do not constitute a complete and sufficient list of 'things that you have to learn for the exam'. You can recognize example questions as (parts of) exercises by <font color=\"#770a0a\">this font color</font>.\n",
    "\n",
    "For each set of exercises (one Python notebook such as this one $==$ one set of exercises) you have to submit deliverables that will then be graded and constitute 25% of the final grade. Thus, the work that you do during the practicals has double contribution towards the final grade: as 25% direct contribution and as a preparation for the exam that will define the other 65% of the grade.\n",
    "\n",
    "## Deliverables\n",
    "\n",
    "For each set of exercises, you have to submit:\n",
    "1. Python functions and/or classes (`.py` files) that implement basic functionalities (e.g. a $k$-NN classifier) and \n",
    "2. A *single* Python notebook that contains the experiments, visualization and answer to the questions and math problems. *Do not submit your answers as Word or PDF documents (they will not be graded)*. The submitted code and notebook should run without errors and be able to fully reproduce the reported results.\n",
    "\n",
    "We recommend that you clone the provided notebooks (such as this one) and write your code in them. The following rubric will be used when grading the practical work:\n",
    "\n",
    "Component  | Insufficient | Satisfactory | Excellent\n",
    "--- | --- | --- | ---\n",
    "**Code** | Missing or incomplete code structure, runs with errors, lacks documentation | Self-contained, does not result in errors, contains some documentation, can be easily used to reproduce the reported results | User-friendly, well-structured (good separation of general functionality and experiments, i.e. between `.py` files and the Pyhthon notebook), detailed documentation, optimized for speed, <s>use of a version control system (such as GitHub)</s>\n",
    "**Answers to questions** | Incorrect, does not convey understanding of the material, appears to be copied from another source | Correct, conveys good understanding of the material, description in own words | Correct, conveys excellent level of understanding, makes connections between topics\n",
    "\n",
    "## A word on notation\n",
    "\n",
    "When we refer to Python variables, we will use a monospace font. For example, `X` is a Python variable that contains the data matrix. When we refer to mathematical variables, we will use the de-facto standard notation: $a$ or $\\lambda$ is a scalar variable, $\\boldsymbol{\\mathrm{w}}$ is a vector and $\\boldsymbol{\\mathrm{X}}$ is a matrix (e.g. a data matrix from the example above). You should use the same notation when writing your answers and solutions.\n",
    "\n",
    "# Two simple machine learning models\n",
    "\n",
    "## Preliminaries\n",
    "\n",
    "Throughout the practical curriculum of this course, we will use the Python programming language and its ecosystem of libraries for scientific computing (such as `numpy`, `scipy`, `matplotlib`, `scikit-learn` etc). The practicals for the deep learning part of the course will use the `keras` deep learning framework. If you are not sufficiently familiar with this programming language and/or the listed libraries and packages, you are strongly advised to go over the corresponding tutorials from the ['Essential skills'](https://github.com/tueimage/essential-skills) module (the `scikit-learn` library is not covered by the tutorial, however, an extensive documentation is available [here](https://scikit-learn.org/stable/documentation.html).\n",
    "\n",
    "In this first set of exercises, we will use two toy datasets that ship together with `scikit-learn`. \n",
    "\n",
    "The first dataset is named `diabetes` and contains 442 patients described with 10 features: age, sex, body mass index, average blood pressure, and six blood serum measurements. The target variable is a continuous quantitative measure of the disease (diabetes) progression one year after the baseline measurements were recorded. More information is available [here](https://github.com/scikit-learn/scikit-learn/blob/master/sklearn/datasets/descr/diabetes.rst) and [here](https://www4.stat.ncsu.edu/~boos/var.select/diabetes.html).\n",
    "\n",
    "The second dataset is named `breast_cancer` and is a copy of the UCI ML Breast Cancer Wisconsin (Diagnostic) datasets (more infortmation is available [here](https://github.com/scikit-learn/scikit-learn/blob/master/sklearn/datasets/descr/breast_cancer.rst) and [here](https://archive.ics.uci.edu/ml/datasets/Breast+Cancer+Wisconsin+(Diagnostic)). The datasets contains of 569 instances represented with 30 features that are computed from a images of a fine needle aspirate of a breast mass. The features describe characteristics of the cell nuclei present in the image. Each instance is associated with a binary target variable ('malignant' or 'benign'). \n",
    "\n",
    "You can load the two datasets in the following way:"
   ]
  },
  {
   "cell_type": "code",
   "execution_count": 1,
   "metadata": {},
   "outputs": [],
   "source": [
    "import numpy as np\n",
    "from sklearn.datasets import load_diabetes, load_breast_cancer\n",
    "\n",
    "diabetes = load_diabetes()\n",
    "\n",
    "breast_cancer = load_breast_cancer()"
   ]
  },
  {
   "cell_type": "markdown",
   "metadata": {},
   "source": [
    "In the majority of the exercises in this course, we will use higher-level libraries and packages such as `scikit-learn` and `keras` to implement, train and evaluate machine learning models. However, the goal of this first set of exercises is to illustrate basic mathematical tools and machine learning concepts. Because of this, we will impose a restriction of only using basic `numpy` functionality. Furthermore, you should as much as possible restrict the use of for-loops (e.g. use a vector-to-matrix product instead of a for loop when appropriate).\n",
    "\n",
    "If `X` is a 2D data matrix, we will use the convention that the rows of the matrix contain the samples (or instances) and the columns contain the features (inputs to the model). That means that a data matrix with a shape `(122, 13)` represents a dataset with 122 samples, each represented with 13 features. Similarly, if `Y` is a 2D matrix containing the targets, the rows correspond to the samples and the columns to the different targets (outputs of the model). Thus, if the shape of `Y` is `(122, 3)` that means that there are 122 samples and each sample is has 3 targets (note that in the majority of the examples we will only have a single target and thus the number of columns of `Y` will be 1).\n",
    "\n",
    "You can obtain the data and target matrices from the two datasets in the following way:"
   ]
  },
  {
   "cell_type": "code",
   "execution_count": 2,
   "metadata": {},
   "outputs": [
    {
     "name": "stdout",
     "output_type": "stream",
     "text": [
      "(442, 10)\n",
      "(442, 1)\n"
     ]
    }
   ],
   "source": [
    "X = diabetes.data\n",
    "Y = diabetes.target[:, np.newaxis]\n",
    "\n",
    "print(X.shape)\n",
    "print(Y.shape)"
   ]
  },
  {
   "cell_type": "markdown",
   "metadata": {},
   "source": [
    "If you want to only use a subset of the available features, you can obtain a reduced data matrix in the following way:"
   ]
  },
  {
   "cell_type": "code",
   "execution_count": 3,
   "metadata": {
    "scrolled": true
   },
   "outputs": [
    {
     "name": "stdout",
     "output_type": "stream",
     "text": [
      "(442, 1)\n",
      "(442, 2)\n"
     ]
    }
   ],
   "source": [
    "# use only the fourth feature\n",
    "X = diabetes.data[:, np.newaxis, 3]\n",
    "print(X.shape)\n",
    "\n",
    "# use the third, and tenth features\n",
    "X = diabetes.data[:, (3,9)]\n",
    "print(X.shape)"
   ]
  },
  {
   "cell_type": "markdown",
   "metadata": {},
   "source": [
    "***Question***: Why we need to use the `np.newaxis` expression in the examples above? \n",
    "\n",
    "We need it to get a 2D vector as an output that has the dimensions: (422, 1). If we would not use `np.newaxis`, you would get a 1D column of the shape (422,) , which is not the same as a 2D column computational wise. Thi is not a problem when selecting 2 features, as this automaticallly created a 2D shape.\n",
    "\n",
    "Note that in all your experiments in the exercises, you should use and independent training and testing sets. You can split the dataset into a training and testing subsets in the following way:"
   ]
  },
  {
   "cell_type": "code",
   "execution_count": 4,
   "metadata": {},
   "outputs": [
    {
     "name": "stdout",
     "output_type": "stream",
     "text": [
      "(300, 1)\n",
      "(300, 1)\n",
      "(142, 1)\n",
      "(142, 1)\n"
     ]
    }
   ],
   "source": [
    "# use the fourth feature\n",
    "# use the first 300 training samples for training, and the rest for testing\n",
    "X_train = diabetes.data[:300, np.newaxis, 3]\n",
    "y_train = diabetes.target[:300, np.newaxis]\n",
    "X_test = diabetes.data[300:, np.newaxis, 3]\n",
    "y_test = diabetes.target[300:, np.newaxis]\n",
    "print(X_train.shape)\n",
    "print(y_train.shape)\n",
    "print(X_test.shape)\n",
    "print(y_test.shape)"
   ]
  },
  {
   "cell_type": "markdown",
   "metadata": {},
   "source": [
    "## Exercises\n",
    "\n",
    "### Linear regression\n",
    "\n",
    "Implement training and evaluation of a linear regression model on the diabetes dataset using only matrix multiplication, inversion and transpose operations. Report the mean squared error of the model.\n",
    "\n",
    "To get you started we have implemented the first part of this exercise (fitting of the model) as an example."
   ]
  },
  {
   "cell_type": "code",
   "execution_count": 5,
   "metadata": {},
   "outputs": [
    {
     "name": "stdout",
     "output_type": "stream",
     "text": [
      "[[ 152.34786452]\n",
      " [ -16.57607993]\n",
      " [-254.66532396]\n",
      " [ 560.98630022]\n",
      " [ 278.91811152]\n",
      " [-393.41357305]\n",
      " [  97.05460405]\n",
      " [ -19.0023093 ]\n",
      " [ 169.46450327]\n",
      " [ 632.95050374]\n",
      " [ 114.21638941]]\n",
      "Mean Squared Error: 2794.569014500728\n"
     ]
    }
   ],
   "source": [
    "import numpy as np\n",
    "from sklearn.datasets import load_diabetes\n",
    "import sys\n",
    "sys.path.append('code/')\n",
    "from Practical_week_1 import *\n",
    "\n",
    "\n",
    "# Load the diabetes dataset\n",
    "diabetes = load_diabetes()\n",
    "\n",
    "# Split the dataset into training and test sets\n",
    "X_train = diabetes.data[:300, :]\n",
    "y_train = diabetes.target[:300, np.newaxis]  # Make sure y is a column vector\n",
    "X_test = diabetes.data[300:, :]\n",
    "y_test = diabetes.target[300:, np.newaxis]  # Ensure y_test is a column vector\n",
    "\n",
    "# Add a column of ones to X_train and X_test to include the intercept term\n",
    "X_train = np.hstack([np.ones((X_train.shape[0], 1)), X_train])\n",
    "X_test = np.hstack([np.ones((X_test.shape[0], 1)), X_test])\n",
    "\n",
    "# Solve for beta using the normal equation\n",
    "beta = np.linalg.inv(X_train.T @ X_train) @ X_train.T @ y_train\n",
    "\n",
    "print(beta)\n",
    "\n",
    "# Make predictions on the test data\n",
    "y_pred = X_test @ beta\n",
    "\n",
    "# Calculate Mean Squared Error (MSE)\n",
    "mse = np.mean((y_test - y_pred) ** 2)\n",
    "print(f'Mean Squared Error: {mse}')"
   ]
  },
  {
   "cell_type": "markdown",
   "metadata": {
    "vscode": {
     "languageId": "plaintext"
    }
   },
   "source": [
    "Mean Squared Error: 2794.587000834295"
   ]
  },
  {
   "cell_type": "markdown",
   "metadata": {},
   "source": [
    "### Weighted linear regression\n",
    "\n",
    "Assume that in the dataset that you use to train a linear regression model, there are identical versions of some samples. This problem can be reformulated to a weighted linear regression problem where the matrices $\\boldsymbol{\\mathrm{X}}$ and $\\boldsymbol{\\mathrm{Y}}$ (or the vector $\\boldsymbol{\\mathrm{y}}$ if there is only a single target/output variable) contain only the unique data samples, and a vector $\\boldsymbol{\\mathrm{d}}$ is introduced that gives more weight to samples that appear multiple times in the original dataset (for example, the sample that appears 3 times has a corresponding weight of 3). \n",
    "\n",
    "<p><font color='#770a0a'>Derive the expression for the least-squares solution of a weighted linear regression model (note that in addition to the matrices $\\boldsymbol{\\mathrm{X}}$ and $\\boldsymbol{\\mathrm{Y}}$, the solution should include a vector of weights $\\boldsymbol{\\mathrm{d}}$).</font></p>"
   ]
  },
  {
   "cell_type": "markdown",
   "metadata": {},
   "source": [
    "The different paremeters included in the calculation/solution of a weighted linear regression model are as follows: \n",
    "* $\\boldsymbol{\\mathrm{X}}$ ∈ $R^{n\\times p}$, which is a matrix of features, which are in this case all unique rows. \n",
    "* $\\boldsymbol{\\mathrm{y}}$ ∈ $R^{n}$, which is a vector containing target values corresponding to the unique rows in $\\boldsymbol{\\mathrm{X}}$. \n",
    "* Lastly, $\\boldsymbol{\\mathrm{d}}$ ∈ $R^{n}$, which the weight vector. \n",
    "\n",
    "To derive the expression of a least squares solution of a weighted regression model, you use the formula for the residual sum of squares (RSS). This formula measures the difference between your observed data and the model’s predictions. The Residual Sum of Squares (RSS) formula looks as follows:\n",
    "\n",
    "Residual Sum of Squares (RSS) formula:\n",
    "\n",
    "$RSS = Σ (y_{i} - ŷ_{i})^{2}$\n",
    "\n",
    "Where:\n",
    "- $y_{i}$ is the actual value.\n",
    "- $ŷ_{i}$ is the predicted value.\n",
    "- Σ represents the sum over all observations from i = 1 to n.\n",
    "\n",
    "Rewriting the predicted value gives: \n",
    "\n",
    "$RSS = Σ (y_{i} - x_{i}w)^{2}$\n",
    "\n",
    "Where w represents the parameters of the linear model. If we now add weights (d) to this formula, as to give more importance to certain samples, the formula looks as follows: \n",
    "\n",
    "Rewriting the predicted value gives: \n",
    "\n",
    "$RSS = Σ d_{i}(y_{i} - x_{i}w)^{2}$\n",
    "\n",
    "Rewriting this formula in matrix notation gives: \n",
    "\n",
    "$RSS(\\boldsymbol{\\mathrm{w}}) = (\\boldsymbol{\\mathrm{y}} - \\boldsymbol{\\mathrm{Xw}})^{T} \\boldsymbol{\\mathrm{D}} (\\boldsymbol{\\mathrm{y}} - \\boldsymbol{\\mathrm{Xw}})$\n",
    "\n",
    "Where $\\boldsymbol{\\mathrm{D}}$ represents a diagonal containing the weights previously found in $\\boldsymbol{\\mathrm{d}}$. To find the solution of this calculation, meaning a $\\boldsymbol{\\mathrm{w}}$ where RSS is a minimimum, we differentiate with respect to $\\boldsymbol{\\mathrm{w}}$ obtaining: \n",
    "\n",
    "$\n",
    "\\frac{d}{d\\boldsymbol{\\mathrm{w}}}RSS(\\boldsymbol{\\mathrm{w}}) = -2\\boldsymbol{\\mathrm{X}}^{T}\\boldsymbol{\\mathrm{D}}\\boldsymbol{\\mathrm{y}} + 2\\boldsymbol{\\mathrm{X}}^{T}\\boldsymbol{\\mathrm{D}}\\boldsymbol{\\mathrm{Xw}}\n",
    "$\n",
    "\n",
    "Setting $\n",
    "\\frac{d}{d\\boldsymbol{\\mathrm{w}}}RSS(\\boldsymbol{\\mathrm{w}})$ equal to 0 and solving for $\\boldsymbol{\\mathrm{w}}$ gives: \n",
    "\n",
    "$\\boldsymbol{\\mathrm{w}} = \\left(\\boldsymbol{\\mathrm{X}}^{T}\\boldsymbol{\\mathrm{D}}\\boldsymbol{\\mathrm{X}}\\right)^{-1}\\boldsymbol{\\mathrm{X}}^{T}\\boldsymbol{\\mathrm{D}}\\boldsymbol{\\mathrm{y}}$\n"
   ]
  },
  {
   "cell_type": "markdown",
   "metadata": {},
   "source": [
    "### $k$-NN classification\n",
    "\n",
    "Implement a $k$-Nearest neighbors classifier from scratch in Python using only basic matrix operations with `numpy` and `scipy`. Train and evaluate the classifier on the breast cancer dataset, using all features. Show the performance of the classifier for different values of $k$ (plot the results in a graph). Note that for optimal results, you should normalize the features (e.g. to the $[0, 1]$ range or to have a zero mean and unit standard deviation)."
   ]
  },
  {
   "cell_type": "code",
   "execution_count": 6,
   "metadata": {},
   "outputs": [
    {
     "name": "stdout",
     "output_type": "stream",
     "text": [
      "(300, 30)\n",
      "(300, 1)\n",
      "(269, 30)\n",
      "(269, 1)\n"
     ]
    },
    {
     "name": "stderr",
     "output_type": "stream",
     "text": [
      "code\\Practical_week_1.py:86: FutureWarning: Unlike other reduction functions (e.g. `skew`, `kurtosis`), the default behavior of `mode` typically preserves the axis it acts along. In SciPy 1.11.0, this behavior will change: the default value of `keepdims` will become False, the `axis` over which the statistic is taken will be eliminated, and the value None will no longer be accepted. Set `keepdims` to True or False to avoid this warning.\n",
      "  outcome = st.mode(np.transpose(nearest_neighbors_outcomes))[0]\n"
     ]
    },
    {
     "data": {
      "image/png": "[encoded data removed]",
      "text/plain": [
       "<Figure size 432x288 with 1 Axes>"
      ]
     },
     "metadata": {
      "needs_background": "light"
     },
     "output_type": "display_data"
    }
   ],
   "source": [
    "from scipy import stats as st\n",
    "import matplotlib.pyplot as plt\n",
    "\n",
    "#Same code as before but then breast cancer data\n",
    "X_train = breast_cancer.data[:300]\n",
    "y_train = breast_cancer.target[:300, np.newaxis]\n",
    "X_test = breast_cancer.data[300:]\n",
    "y_test = breast_cancer.target[300:, np.newaxis]\n",
    "print(X_train.shape)\n",
    "print(y_train.shape)\n",
    "print(X_test.shape)\n",
    "print(y_test.shape)\n",
    "\n",
    "# determine accuracy for different values of k\n",
    "acc_list = []\n",
    "for k in range(1,300):\n",
    "    acc_list.append(knnClassifier(X_train, X_test, y_train, y_test, k))\n",
    "\n",
    "# plot accuracy of knn classifier for different values of k\n",
    "xpoints = np.arange(1, 300)\n",
    "ypoints = np.array(acc_list)\n",
    "\n",
    "plt.plot(xpoints, ypoints)\n",
    "plt.title('Accuracy of K-nn classifier for different values of k')\n",
    "plt.xlabel('Value of k') \n",
    "plt.ylabel('Accuracy') \n",
    "plt.show()"
   ]
  },
  {
   "cell_type": "markdown",
   "metadata": {},
   "source": [
    "The maximum accuracy a k-NN classification model can reach is 0.96, which is the accuracy value if k = 4. In the previously formed image, one can see the effect of tuning the k parameter; with a lower k value, take for example 2, the model picks only few datapoints nearest to the currect datapoint. This leads to a very intricate decision boundary. Models with a too low k value, often fail to generalize well on the test data set. While the accuracy is still high at k = 2, 3 etc., performs worse when compared to a model that uses a higher k. At a low K we have a low bias, however a very high variance. When we get us a larger k, the training error will likely increase (meaning an increase bias), however, the test error could decrease as well (decrease variance). The goal is to find a good balance between variance and bias, as finding a low value for both is unlikely. "
   ]
  },
  {
   "cell_type": "markdown",
   "metadata": {},
   "source": [
    "### $k$-NN regression\n",
    "\n",
    "Modify the $k$-NN implementation to do regression instead of classification. Compare the performance of the linear regression model and the $k$-NN regression model on the diabetes dataset for different values of $k$.."
   ]
  },
  {
   "cell_type": "code",
   "execution_count": 7,
   "metadata": {},
   "outputs": [
    {
     "name": "stdout",
     "output_type": "stream",
     "text": [
      "(300, 1)\n",
      "(300, 1)\n",
      "(142, 1)\n",
      "(142, 1)\n"
     ]
    },
    {
     "data": {
      "image/png": "[encoded data removed]",
      "text/plain": [
       "<Figure size 432x288 with 1 Axes>"
      ]
     },
     "metadata": {
      "needs_background": "light"
     },
     "output_type": "display_data"
    }
   ],
   "source": [
    "# prepare the data\n",
    "X_train = diabetes.data[:300, np.newaxis, 3]\n",
    "y_train = diabetes.target[:300, np.newaxis]\n",
    "X_test = diabetes.data[300:, np.newaxis, 3]\n",
    "y_test = diabetes.target[300:, np.newaxis]\n",
    "print(X_train.shape)\n",
    "print(y_train.shape)\n",
    "print(X_test.shape)\n",
    "print(y_test.shape)\n",
    "\n",
    "# determine standard deviation for different values of k\n",
    "std_list = []\n",
    "for k in range(1,300):\n",
    "    std_list.append(knnRegressor(X_train, X_test, y_train, y_test, k))\n",
    "\n",
    "xpoints = np.arange(1, 300)\n",
    "ypoints = np.array(std_list)\n",
    "\n",
    "plt.plot(xpoints, ypoints)\n",
    "plt.title('Standard deviation of K-nn classifier for different values of k')\n",
    "plt.xlabel('Value of k') \n",
    "plt.ylabel('Standard deviation') \n",
    "plt.show()"
   ]
  },
  {
   "cell_type": "markdown",
   "metadata": {},
   "source": [
    "### Class-conditional probability\n",
    "\n",
    "Compute and visualize the class-conditional probability (conditional probability where the class label is the conditional variable, i.e. $P(X = x \\mid Y = y_i)$ for all features in the breast cancer dataset. Assume a Gaussian distribution.\n",
    "\n",
    "<p><font color='#770a0a'>Based on visual analysis of the plots, which individual feature can best discriminate between the two classes? Motivate your answer.</font></p>\n",
    "\n",
    "Based on the figures below, features 3, 21 and 28 have the least overlap in their probability distributions and would therefore be useful in discriminating between the two classes."
   ]
  },
  {
   "cell_type": "code",
   "execution_count": null,
   "metadata": {},
   "outputs": [],
   "source": [
    "import seaborn as sns\n",
    "import matplotlib.pyplot as plt\n",
    "import pandas as pd\n",
    "\n",
    "# Gather data\n",
    "X = breast_cancer.data\n",
    "Y = breast_cancer.target[:, np.newaxis]\n",
    "\n",
    "X = pd.DataFrame(X).replace([np.inf, -np.inf], np.nan).values\n",
    "\n",
    "# Divide Data into malignent and benign\n",
    "y_bool = np.array(list(map(bool,Y)))\n",
    "malignant = X[~y_bool]\n",
    "benign = X[y_bool]\n",
    "\n",
    "# Create grid for the pltos\n",
    "fig, axes = plt.subplots(10, 3, figsize=(20, 50))\n",
    "\n",
    "# Create plots for each feature\n",
    "for feature in range(X.shape[1]):\n",
    "    sns.kdeplot(ax=axes[feature//3, feature%3], data=malignant[:, np.newaxis, feature], label=\"Malignent\", fill=True)\n",
    "    sns.kdeplot(ax=axes[feature//3, feature%3], x=benign[:, feature], label=\"Benign\", fill=True).set(title=f'feature {feature+1}')\n",
    "    axes[feature//3, feature%3].legend()\n",
    "    "
   ]
  }
 ],
 "metadata": {
  "kernelspec": {
   "display_name": "Python 3",
   "language": "python",
   "name": "python3"
  },
  "language_info": {
   "codemirror_mode": {
    "name": "ipython",
    "version": 3
   },
   "file_extension": ".py",
   "mimetype": "text/x-python",
   "name": "python",
   "nbconvert_exporter": "python",
   "pygments_lexer": "ipython3",
   "version": "3.8.1"
  }
 },
 "nbformat": 4,
 "nbformat_minor": 4
}
